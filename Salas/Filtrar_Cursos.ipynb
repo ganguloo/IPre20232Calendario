{
 "cells": [
  {
   "cell_type": "code",
   "execution_count": 1,
   "metadata": {},
   "outputs": [],
   "source": [
    "import pandas as pd"
   ]
  },
  {
   "cell_type": "code",
   "execution_count": 3,
   "metadata": {},
   "outputs": [],
   "source": [
    "df = pd.read_excel('SalasUC-2023-1.xlsx', sheet_name=1)"
   ]
  },
  {
   "cell_type": "code",
   "execution_count": 4,
   "metadata": {},
   "outputs": [],
   "source": [
    "df_ing = df[df['Organization'] == 'Ingenieria']\n",
    "df_ing = df[(df['Organization'] == 'Ingenieria') | (df['Organization'] == 'Ing Matemática y Computacional')]\n"
   ]
  },
  {
   "cell_type": "code",
   "execution_count": 5,
   "metadata": {},
   "outputs": [],
   "source": [
    "filter_date = pd.to_datetime('2023-06-30')\n",
    "df_ing = df_ing[df_ing['Day'] <= filter_date]"
   ]
  },
  {
   "cell_type": "code",
   "execution_count": 6,
   "metadata": {},
   "outputs": [],
   "source": [
    "import re"
   ]
  },
  {
   "cell_type": "code",
   "execution_count": 9,
   "metadata": {},
   "outputs": [
    {
     "name": "stdout",
     "output_type": "stream",
     "text": [
      "{'IIC': ['IIC2113', 'IIC2440', 'IIC2714', 'IIC3697', 'IIC2513', 'IIC2433', 'IIC2213', 'IIC2343', 'IIC3103', 'IIC3284', 'IIC3585', 'IIC3800', 'IIC3253', 'IIC2613', 'IIC3182', 'IIC2733', 'IIC2333', 'IIC3113', 'IIC3703', 'IIC1253', 'IIC2413', 'IIC3743', 'IIC1103', 'IIC2115', 'IIC2026', 'IIC3724', 'IIC3143', 'IIC2685', 'IIC3242', 'IIC2133', 'IIC1005', 'IIC3757', 'IIC3745', 'IIC2764', 'IIC2143', 'IIC1001', 'IIC2713', 'IIC2233'], 'ICS': ['ICS3313', 'ICS3213', 'ICS2121', 'ICS2023', 'ICS1513', 'ICS3762', 'ICS3811', 'ICS3805', 'ICS2123', 'ICS2613', 'ICS3723', 'ICS3151', 'ICS2523', 'ICS1113', 'ICS3582', 'ICS2563', 'ICS3413', 'ICS3252'], 'IEE': ['IEE2613', 'IEE3234', 'IEE3732', 'IEE3864', 'IEE2713', 'IEE2513', 'IEE3373', 'IEE2343', 'IEE2103', 'IEE2463', 'IEE2413', 'IEE2213', 'IEE2113', 'IEE2123'], 'ICM': ['ICM2223', 'ICM2213', 'ICM2203', 'ICM3235', 'ICM2503', 'ICM2813', 'ICM2413', 'ICM2333', 'ICM2323', 'ICM2313', 'ICM2424', 'ICM3243', 'ICM2803', 'ICM2028', 'ICM2403', 'ICM2003', 'ICM1001', 'ICM2022', 'ICM3251', 'ICM3762'], 'ICH': ['ICH3532', 'ICH2314', 'ICH3364', 'ICH2574', 'ICH2204', 'ICH3350', 'ICH3222', 'ICH2301', 'ICH3374', 'ICH2124', 'ICH1104', 'ICH1005', 'ICH3600', 'ICH2114', 'ICH2214', 'ICH2304'], 'IMM': ['IMM1003', 'IMM3800', 'IMM3313', 'IMM2003', 'IMM2033', 'IMM2053', 'IMM2213', 'IMM2013', 'IMM3323', 'IMM2521', 'IMM2083', 'IMM2503', 'IMM2043', 'IMM2073'], 'IIQ': ['IIQ3733', 'IIQ2023', 'IIQ3602', 'IIQ1003', 'IIQ3343', 'IIQ2673', 'IIQ2663', 'IIQ2043', 'IIQ2133', 'IIQ2303', 'IIQ3643', 'IIQ2003', 'IIQ2013', 'IIQ3683'], 'ICT': ['ICT3113', 'ICT2303', 'ICT3523', 'ICT2233', 'ICT3283', 'ICT3435', 'ICT3464', 'ICT3623'], 'ICE ': ['ICE 3124', 'ICE 2114', 'ICE 2604', 'ICE 1514', 'ICE 3413', 'ICE 3443', 'ICE 2623', 'ICE 2703', 'ICE 2020', 'ICE 2006', 'ICE 3753', 'ICE 3233', 'ICE 3513', 'ICE 3653', 'ICE 3663', 'ICE 2214', 'ICE 2313', 'ICE 2533', 'ICE 2633', 'ICE 2028', 'ICE 3613'], 'IMT': ['IMT3130', 'IMT3150', 'IMT2111', 'IMT2220', 'IMT3800', 'IMT3400']}\n",
      "169\n"
     ]
    }
   ],
   "source": [
    "lista_cursos = {}\n",
    "cantidad_cursos = 0\n",
    "siglas_cursos_ing = ['IIC', 'ICS', 'IEE', 'ICM', \"ICH\", \"IMM\", \"IIQ\", \"ICT\", \"ICE \", \"IMT\"]\n",
    "for sigla in siglas_cursos_ing:\n",
    "    class_codes = df_ing['Event Name'].str.findall(r'({}\\d{{4}})'.format(sigla), flags=re.IGNORECASE)\n",
    "    class_codes = list(set([code.upper() for code_list in class_codes for code in code_list]))\n",
    "    lista_cursos[sigla] = class_codes\n",
    "    cantidad_cursos += len(class_codes)\n",
    "\n",
    "print(lista_cursos)\n",
    "print(cantidad_cursos)\n"
   ]
  },
  {
   "cell_type": "code",
   "execution_count": null,
   "metadata": {},
   "outputs": [],
   "source": [
    "archivo = \"\"\n",
    "for sigla in siglas_cursos_ing:\n",
    "    lista = lista_cursos[sigla]\n",
    "    for curso in lista:\n",
    "        archivo += curso + \"\\n\"\n",
    "\n",
    "with open(\"cursos_con_ies.csv\", \"w\") as file:\n",
    "    file.write(archivo)\n"
   ]
  }
 ],
 "metadata": {
  "kernelspec": {
   "display_name": "Python 3",
   "language": "python",
   "name": "python3"
  },
  "language_info": {
   "codemirror_mode": {
    "name": "ipython",
    "version": 3
   },
   "file_extension": ".py",
   "mimetype": "text/x-python",
   "name": "python",
   "nbconvert_exporter": "python",
   "pygments_lexer": "ipython3",
   "version": "3.11.4"
  },
  "orig_nbformat": 4
 },
 "nbformat": 4,
 "nbformat_minor": 2
}
