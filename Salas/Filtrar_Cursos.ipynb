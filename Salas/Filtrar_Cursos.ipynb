{
 "cells": [
  {
   "cell_type": "code",
   "execution_count": 1,
   "metadata": {},
   "outputs": [],
   "source": [
    "import pandas as pd"
   ]
  },
  {
   "cell_type": "code",
   "execution_count": 13,
   "metadata": {},
   "outputs": [],
   "source": [
    "df = pd.read_excel('SalasUC-2023-2.xlsx', sheet_name=1)"
   ]
  },
  {
   "cell_type": "code",
   "execution_count": 58,
   "metadata": {},
   "outputs": [],
   "source": [
    "df_ing = df[df['Organization'] == 'Ingenieria']\n",
    "df_ing = df[(df['Organization'] == 'Ingenieria') | (df['Organization'] == 'Ing Matemática y Computacional')]\n"
   ]
  },
  {
   "cell_type": "code",
   "execution_count": 59,
   "metadata": {},
   "outputs": [],
   "source": [
    "filter_date = pd.to_datetime('2023-06-30')\n",
    "df_ing = df_ing[df_ing['Day'] <= filter_date]"
   ]
  },
  {
   "cell_type": "code",
   "execution_count": 60,
   "metadata": {},
   "outputs": [],
   "source": [
    "import re"
   ]
  },
  {
   "cell_type": "code",
   "execution_count": 62,
   "metadata": {},
   "outputs": [
    {
     "name": "stdout",
     "output_type": "stream",
     "text": [
      "{'IIC': ['IIC3113', 'IIC1001', 'IIC3703', 'IIC3724', 'IIC2133', 'IIC3800', 'IIC2433', 'IIC3585', 'IIC2343', 'IIC2115', 'IIC2613', 'IIC2685', 'IIC2713', 'IIC3757', 'IIC2026', 'IIC3745', 'IIC2143', 'IIC2233', 'IIC2213', 'IIC2440', 'IIC2733', 'IIC3103', 'IIC3253', 'IIC2764', 'IIC1253', 'IIC2113', 'IIC3743', 'IIC3697', 'IIC2513', 'IIC3143', 'IIC3284', 'IIC2413', 'IIC1005', 'IIC1103', 'IIC2714', 'IIC3242', 'IIC3182', 'IIC2333'], 'ICS': ['ICS3252', 'ICS2563', 'ICS1513', 'ICS3762', 'ICS3805', 'ICS2123', 'ICS3413', 'ICS2023', 'ICS3811', 'ICS3151', 'ICS1113', 'ICS2523', 'ICS2613', 'ICS3582', 'ICS2121', 'ICS3723', 'ICS3313', 'ICS3213'], 'IEE': ['IEE2123', 'IEE3732', 'IEE2413', 'IEE3864', 'IEE3373', 'IEE2713', 'IEE2513', 'IEE3234', 'IEE2213', 'IEE2613', 'IEE2113', 'IEE2463', 'IEE2103', 'IEE2343'], 'ICM': ['ICM3251', 'icm2003', 'ICM2028', 'ICM2333', 'ICM3235', 'ICM2003', 'ICM2424', 'ICM2813', 'ICM2403', 'ICM3762', 'icm2028', 'icm2323', 'ICM2203', 'ICM2213', 'ICM1001', 'ICM2022', 'ICM2803', 'ICM2413', 'ICM2313', 'ICM2223', 'ICM3243', 'ICM2503'], 'ICH': ['ICH2124', 'ICH3374', 'ICH1005', 'ICH3364', 'ICH3532', 'ICH2574', 'ICH2304', 'ICH3350', 'ICH2314', 'ICH3600', 'ICH2204', 'ICH1104', 'ICH2214', 'ICH2114', 'ICH2301', 'ICH3222'], 'IMM': ['IMM2013', 'IMM2521', 'IMM3313', 'IMM2043', 'IMM2503', 'IMM2083', 'IMM2213', 'IMM2033', 'IMM1003', 'IMM3323', 'IMM2073', 'IMM2003', 'IMM3800', 'IMM2053'], 'IIQ': ['IIQ2303', 'IIQ2013', 'IIQ2133', 'IIQ2003', 'IIQ2023', 'IIQ3602', 'IIQ2673', 'IIQ3343', 'IIQ3683', 'IIQ2663', 'IIQ3643', 'IIQ3733', 'IIQ2043', 'IIQ1003'], 'ICT': ['ICT3464', 'ICT3623', 'ICT2303', 'ICT3435', 'ICT3113', 'ICT3523', 'ICT3283', 'ICT2233'], 'ICE ': ['ICE 3124', 'ICE 2214', 'ICE 3443', 'ICE 2114', 'ICE 2020', 'ICE 1514', 'ICE 2313', 'ICE 3513', 'ICE 2633', 'ICE 2533', 'ICE 3613', 'ICE 3663', 'ICE 2703', 'ICE 3753', 'ICE 3413', 'ICE 3653', 'ICE 2006', 'ICE 2604', 'ICE 3233', 'ICE 2028', 'ICE 2623'], 'IMT': ['IMT3130', 'IMT2220', 'IMT3400', 'IMT3800', 'IMT3150', 'IMT2111']}\n",
      "171\n"
     ]
    }
   ],
   "source": [
    "lista_cursos = {}\n",
    "cantidad_cursos = 0\n",
    "siglas_cursos_ing = ['IIC', 'ICS', 'IEE', 'ICM', \"ICH\", \"IMM\", \"IIQ\", \"ICT\", \"ICE \", \"IMT\"]\n",
    "for sigla in siglas_cursos_ing:\n",
    "    class_codes = df_ing['Event Name'].str.findall(r'({}\\d{{4}})'.format(sigla), flags=re.IGNORECASE)\n",
    "    class_codes = list(set([code for code_list in class_codes for code in code_list]))\n",
    "    lista_cursos[sigla] = class_codes\n",
    "    cantidad_cursos += len(class_codes)\n",
    "\n",
    "print(lista_cursos)\n",
    "print(cantidad_cursos)\n"
   ]
  }
 ],
 "metadata": {
  "kernelspec": {
   "display_name": "Python 3",
   "language": "python",
   "name": "python3"
  },
  "language_info": {
   "codemirror_mode": {
    "name": "ipython",
    "version": 3
   },
   "file_extension": ".py",
   "mimetype": "text/x-python",
   "name": "python",
   "nbconvert_exporter": "python",
   "pygments_lexer": "ipython3",
   "version": "3.11.4"
  },
  "orig_nbformat": 4
 },
 "nbformat": 4,
 "nbformat_minor": 2
}
