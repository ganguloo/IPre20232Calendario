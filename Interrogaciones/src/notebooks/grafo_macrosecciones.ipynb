{
 "cells": [
  {
   "cell_type": "code",
   "execution_count": 1,
   "id": "e8ae6d21-abbb-41e9-bf85-2ab66ae3e64b",
   "metadata": {},
   "outputs": [],
   "source": [
    "import os\n",
    "from grafos.mismo_modulo import grafo_mismo_modulo, reemplazar_siglas_con_macrosecciones\n",
    "from filtracion_archivos.modulos import (cursos_y_horario,\n",
    "                                         limpieza_cursos,\n",
    "                                         ramos_mismo_modulo,\n",
    "                                         cursos_con_macroseccion)\n",
    "\n",
    "from grafos.drawing import dibujar_grafo\n",
    "\n",
    "import pandas as pd\n",
    "import numpy as np\n",
    "import networkx as nx\n",
    "import matplotlib.pyplot as plt\n",
    "import os\n",
    "from bokeh.io import output_notebook, show, save\n",
    "%matplotlib inline\n",
    "from itertools import filterfalse\n",
    "\n",
    "from bokeh.io import output_notebook, show, save\n",
    "from bokeh.models import Range1d, Circle, ColumnDataSource, MultiLine, EdgesAndLinkedNodes, NodesAndLinkedEdges, LabelSet\n",
    "from bokeh.plotting import figure\n",
    "from bokeh.plotting import from_networkx\n",
    "from bokeh.palettes import Blues8, Reds8, Purples8, Oranges8, Viridis8, Spectral8\n",
    "from bokeh.transform import linear_cmap\n",
    "from networkx.algorithms import community"
   ]
  },
  {
   "cell_type": "code",
   "execution_count": 2,
   "id": "612fb9ea-b115-4117-a940-83761f60d2b3",
   "metadata": {},
   "outputs": [],
   "source": [
    "path_excel_2 = os.path.join(\"excel_horarios\", \"Listado_NRC.xlsx\")"
   ]
  },
  {
   "cell_type": "code",
   "execution_count": 3,
   "id": "be17d92f-60e4-45e3-86b0-cf0d858b35ab",
   "metadata": {},
   "outputs": [],
   "source": [
    "cursos_con_horario = cursos_y_horario(path_excel_2)\n",
    "macrosecciones = cursos_con_macroseccion(cursos_con_horario)\n",
    "grafo = grafo_mismo_modulo(path_excel_2)"
   ]
  },
  {
   "cell_type": "code",
   "execution_count": 4,
   "id": "e611c629-88ce-4a88-897f-7006b65b39bb",
   "metadata": {},
   "outputs": [
    {
     "name": "stdout",
     "output_type": "stream",
     "text": [
      "A3_MS1 - Macrosección 1 set()\n",
      "B0_MS1 - Macrosección 1 set()\n",
      "B1_MS1 - Macrosección 1 set()\n",
      "B2_MS1 - Macrosección 1 set()\n",
      "B3_MS1 - Macrosección 1 set()\n",
      "B6_MS1 - Macrosección 1 set()\n",
      "B8_MS1 - Macrosección 1 {'IEE2913-1'}\n",
      "C1_MS1 - Macrosección 1 set()\n",
      "C4_MS1 - Macrosección 1 set()\n",
      "C5_MS1 - Macrosección 1 set()\n",
      "C8_MS1 - Macrosección 1 set()\n",
      "H6_MS1 - Macrosección 1 {'ICM2503-2', 'IND3110-1', 'IND3725-1', 'ICH3532-1', 'IND3200-1', 'IND3910-1', 'ICM2503-5', 'ICH2574-1', 'ICM2503-3', 'ICM2503-4', 'IND3740-1', 'ICM2503-1', 'IIQ3402-1'}\n",
      "H7_MS1 - Macrosección 1 {'IND3740-1', 'ICM2503-2', 'IND3110-1', 'IND3725-1', 'ICH3532-1', 'IND3200-1', 'IND3910-1', 'ICM2503-5', 'ICH2574-1', 'ICM2503-3', 'ICM2503-4', 'ICM2503-1', 'IIQ3402-1'}\n",
      "I3_MS1 - Macrosección 1 set()\n",
      "I5_MS1 - Macrosección 1 set()\n",
      "I6_MS1 - Macrosección 1 set()\n",
      "I7_MS1 - Macrosección 1 set()\n",
      "J7_MS1 - Macrosección 1 set()\n",
      "K6_MS1 - Macrosección 1 set()\n",
      "R2_MS1 - Macrosección 1 {'ING3820-2', 'IDT3020-1', 'ING3821-2'}\n",
      "R3_MS1 - Macrosección 1 set()\n",
      "T1_MS1 - Macrosección 1 set()\n",
      "W0_MS1 - Macrosección 1 set()\n",
      "Z8_MS1 - Macrosección 1 {'IIC2233-3', 'IIC2233-1', 'IIC2233-2', 'IIC2233-4', 'IMM2083-1'}\n"
     ]
    }
   ],
   "source": [
    "graph = reemplazar_siglas_con_macrosecciones(grafo, macrosecciones)"
   ]
  },
  {
   "cell_type": "code",
   "execution_count": 5,
   "id": "5bdfd243-d166-4eed-ab7a-87522df8ba36",
   "metadata": {},
   "outputs": [
    {
     "name": "stderr",
     "output_type": "stream",
     "text": [
      "C:\\Users\\franc\\AppData\\Local\\Programs\\Python\\Python311\\Lib\\site-packages\\bokeh\\io\\saving.py:142: UserWarning: save() called but no resources were supplied and output_file(...) was never called, defaulting to resources.CDN\n",
      "  warn(\"save() called but no resources were supplied and output_file(...) was never called, defaulting to resources.CDN\")\n",
      "C:\\Users\\franc\\AppData\\Local\\Programs\\Python\\Python311\\Lib\\site-packages\\bokeh\\io\\saving.py:154: UserWarning: save() called but no title was supplied and output_file(...) was never called, using default title 'Bokeh Plot'\n",
      "  warn(\"save() called but no title was supplied and output_file(...) was never called, using default title 'Bokeh Plot'\")\n"
     ]
    }
   ],
   "source": [
    "dibujar_grafo(\"Grafo de ramos y respectivos módulos, con macrosecciones\", graph)"
   ]
  },
  {
   "cell_type": "code",
   "execution_count": 3,
   "id": "8b71d750-3ff3-4cfe-b320-492a4802fcf7",
   "metadata": {
    "tags": []
   },
   "outputs": [
    {
     "name": "stdout",
     "output_type": "stream",
     "text": [
      "{'A': 'Info A', 'B': 'Info B', 'C': 'Info C', 'D': 'Info D'}\n",
      "['Info A', 'Info B', 'Info C', 'Info D']\n"
     ]
    }
   ],
   "source": [
    "from bokeh.io import show\n",
    "from bokeh.models import ColumnDataSource, HoverTool\n",
    "from bokeh.plotting import figure\n",
    "\n",
    "# Datos de ejemplo\n",
    "x_values = ['A', 'B', 'C', 'D']\n",
    "y_values = [10, 20, 30, 40]\n",
    "info_x = ['Info A', 'Info B', 'Info C', 'Info D']\n",
    "\n",
    "# Crear el diccionario de mapeo\n",
    "mapping_dict = dict(zip(x_values, info_x))\n",
    "print(mapping_dict)\n",
    "\n",
    "# Mapear los valores utilizando la función map de Python\n",
    "mapped_info_x = list(map(mapping_dict.get, x_values))\n",
    "print(mapped_info_x)\n",
    "# Crear una fuente de datos ColumnDataSource\n",
    "source = ColumnDataSource(data=dict(x_values=x_values, y_values=y_values, info_x=mapped_info_x))\n",
    "\n",
    "# Crear la figura\n",
    "p = figure(x_range=x_values)\n",
    "\n",
    "# Agregar las barras\n",
    "p.vbar(x='x_values', top='y_values', width=0.9, source=source)\n",
    "\n",
    "# Agregar el HoverTool\n",
    "hover = HoverTool(tooltips=[('x_value', '@x_values'), ('info_x', '@info_x'), ('y_value', '@y_values')])\n",
    "p.add_tools(hover)\n",
    "\n",
    "# Mostrar el gráfico\n",
    "show(p)\n"
   ]
  },
  {
   "cell_type": "code",
   "execution_count": null,
   "id": "c0ef2d00-24e3-46f8-991d-5e46bbe9a4c5",
   "metadata": {},
   "outputs": [],
   "source": []
  }
 ],
 "metadata": {
  "kernelspec": {
   "display_name": "Python 3 (ipykernel)",
   "language": "python",
   "name": "python3"
  },
  "language_info": {
   "codemirror_mode": {
    "name": "ipython",
    "version": 3
   },
   "file_extension": ".py",
   "mimetype": "text/x-python",
   "name": "python",
   "nbconvert_exporter": "python",
   "pygments_lexer": "ipython3",
   "version": "3.10.10"
  }
 },
 "nbformat": 4,
 "nbformat_minor": 5
}
