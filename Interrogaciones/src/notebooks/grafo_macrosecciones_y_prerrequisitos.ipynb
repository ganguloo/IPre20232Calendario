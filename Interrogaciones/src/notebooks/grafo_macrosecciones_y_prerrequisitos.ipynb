{
 "cells": [
  {
   "cell_type": "code",
   "execution_count": 1,
   "id": "db00a481-7394-4e32-adb1-42a30cd44235",
   "metadata": {},
   "outputs": [],
   "source": [
    "import os\n",
    "import networkx as nx\n",
    "%matplotlib inline"
   ]
  },
  {
   "cell_type": "code",
   "execution_count": 2,
   "id": "f93da1de-0fa4-418a-ba95-90623ebf5bdd",
   "metadata": {},
   "outputs": [
    {
     "data": {
      "text/html": [
       "<style>\n",
       "        .bk-notebook-logo {\n",
       "            display: block;\n",
       "            width: 20px;\n",
       "            height: 20px;\n",
       "            background-image: url(data:image/png;base64,iVBORw0KGgoAAAANSUhEUgAAABQAAAAUCAYAAACNiR0NAAAABHNCSVQICAgIfAhkiAAAAAlwSFlzAAALEgAACxIB0t1+/AAAABx0RVh0U29mdHdhcmUAQWRvYmUgRmlyZXdvcmtzIENTNui8sowAAAOkSURBVDiNjZRtaJVlGMd/1/08zzln5zjP1LWcU9N0NkN8m2CYjpgQYQXqSs0I84OLIC0hkEKoPtiH3gmKoiJDU7QpLgoLjLIQCpEsNJ1vqUOdO7ppbuec5+V+rj4ctwzd8IIbbi6u+8f1539dt3A78eXC7QizUF7gyV1fD1Yqg4JWz84yffhm0qkFqBogB9rM8tZdtwVsPUhWhGcFJngGeWrPzHm5oaMmkfEg1usvLFyc8jLRqDOMru7AyC8saQr7GG7f5fvDeH7Ej8CM66nIF+8yngt6HWaKh7k49Soy9nXurCi1o3qUbS3zWfrYeQDTB/Qj6kX6Ybhw4B+bOYoLKCC9H3Nu/leUTZ1JdRWkkn2ldcCamzrcf47KKXdAJllSlxAOkRgyHsGC/zRday5Qld9DyoM4/q/rUoy/CXh3jzOu3bHUVZeU+DEn8FInkPBFlu3+nW3Nw0mk6vCDiWg8CeJaxEwuHS3+z5RgY+YBR6V1Z1nxSOfoaPa4LASWxxdNp+VWTk7+4vzaou8v8PN+xo+KY2xsw6une2frhw05CTYOmQvsEhjhWjn0bmXPjpE1+kplmmkP3suftwTubK9Vq22qKmrBhpY4jvd5afdRA3wGjFAgcnTK2s4hY0/GPNIb0nErGMCRxWOOX64Z8RAC4oCXdklmEvcL8o0BfkNK4lUg9HTl+oPlQxdNo3Mg4Nv175e/1LDGzZen30MEjRUtmXSfiTVu1kK8W4txyV6BMKlbgk3lMwYCiusNy9fVfvvwMxv8Ynl6vxoByANLTWplvuj/nF9m2+PDtt1eiHPBr1oIfhCChQMBw6Aw0UulqTKZdfVvfG7VcfIqLG9bcldL/+pdWTLxLUy8Qq38heUIjh4XlzZxzQm19lLFlr8vdQ97rjZVOLf8nclzckbcD4wxXMidpX30sFd37Fv/GtwwhzhxGVAprjbg0gCAEeIgwCZyTV2Z1REEW8O4py0wsjeloKoMr6iCY6dP92H6Vw/oTyICIthibxjm/DfN9lVz8IqtqKYLUXfoKVMVQVVJOElGjrnnUt9T9wbgp8AyYKaGlqingHZU/uG2NTZSVqwHQTWkx9hxjkpWDaCg6Ckj5qebgBVbT3V3NNXMSiWSDdGV3hrtzla7J+duwPOToIg42ChPQOQjspnSlp1V+Gjdged7+8UN5CRAV7a5EdFNwCjEaBR27b3W890TE7g24NAP/mMDXRWrGoFPQI9ls/MWO2dWFAar/xcOIImbbpA3zgAAAABJRU5ErkJggg==);\n",
       "        }\n",
       "    </style>\n",
       "    <div>\n",
       "        <a href=\"https://bokeh.org\" target=\"_blank\" class=\"bk-notebook-logo\"></a>\n",
       "        <span id=\"p1001\">Loading BokehJS ...</span>\n",
       "    </div>\n"
      ]
     },
     "metadata": {},
     "output_type": "display_data"
    },
    {
     "data": {
      "application/javascript": [
       "(function(root) {\n",
       "  function now() {\n",
       "    return new Date();\n",
       "  }\n",
       "\n",
       "  const force = true;\n",
       "\n",
       "  if (typeof root._bokeh_onload_callbacks === \"undefined\" || force === true) {\n",
       "    root._bokeh_onload_callbacks = [];\n",
       "    root._bokeh_is_loading = undefined;\n",
       "  }\n",
       "\n",
       "const JS_MIME_TYPE = 'application/javascript';\n",
       "  const HTML_MIME_TYPE = 'text/html';\n",
       "  const EXEC_MIME_TYPE = 'application/vnd.bokehjs_exec.v0+json';\n",
       "  const CLASS_NAME = 'output_bokeh rendered_html';\n",
       "\n",
       "  /**\n",
       "   * Render data to the DOM node\n",
       "   */\n",
       "  function render(props, node) {\n",
       "    const script = document.createElement(\"script\");\n",
       "    node.appendChild(script);\n",
       "  }\n",
       "\n",
       "  /**\n",
       "   * Handle when an output is cleared or removed\n",
       "   */\n",
       "  function handleClearOutput(event, handle) {\n",
       "    const cell = handle.cell;\n",
       "\n",
       "    const id = cell.output_area._bokeh_element_id;\n",
       "    const server_id = cell.output_area._bokeh_server_id;\n",
       "    // Clean up Bokeh references\n",
       "    if (id != null && id in Bokeh.index) {\n",
       "      Bokeh.index[id].model.document.clear();\n",
       "      delete Bokeh.index[id];\n",
       "    }\n",
       "\n",
       "    if (server_id !== undefined) {\n",
       "      // Clean up Bokeh references\n",
       "      const cmd_clean = \"from bokeh.io.state import curstate; print(curstate().uuid_to_server['\" + server_id + \"'].get_sessions()[0].document.roots[0]._id)\";\n",
       "      cell.notebook.kernel.execute(cmd_clean, {\n",
       "        iopub: {\n",
       "          output: function(msg) {\n",
       "            const id = msg.content.text.trim();\n",
       "            if (id in Bokeh.index) {\n",
       "              Bokeh.index[id].model.document.clear();\n",
       "              delete Bokeh.index[id];\n",
       "            }\n",
       "          }\n",
       "        }\n",
       "      });\n",
       "      // Destroy server and session\n",
       "      const cmd_destroy = \"import bokeh.io.notebook as ion; ion.destroy_server('\" + server_id + \"')\";\n",
       "      cell.notebook.kernel.execute(cmd_destroy);\n",
       "    }\n",
       "  }\n",
       "\n",
       "  /**\n",
       "   * Handle when a new output is added\n",
       "   */\n",
       "  function handleAddOutput(event, handle) {\n",
       "    const output_area = handle.output_area;\n",
       "    const output = handle.output;\n",
       "\n",
       "    // limit handleAddOutput to display_data with EXEC_MIME_TYPE content only\n",
       "    if ((output.output_type != \"display_data\") || (!Object.prototype.hasOwnProperty.call(output.data, EXEC_MIME_TYPE))) {\n",
       "      return\n",
       "    }\n",
       "\n",
       "    const toinsert = output_area.element.find(\".\" + CLASS_NAME.split(' ')[0]);\n",
       "\n",
       "    if (output.metadata[EXEC_MIME_TYPE][\"id\"] !== undefined) {\n",
       "      toinsert[toinsert.length - 1].firstChild.textContent = output.data[JS_MIME_TYPE];\n",
       "      // store reference to embed id on output_area\n",
       "      output_area._bokeh_element_id = output.metadata[EXEC_MIME_TYPE][\"id\"];\n",
       "    }\n",
       "    if (output.metadata[EXEC_MIME_TYPE][\"server_id\"] !== undefined) {\n",
       "      const bk_div = document.createElement(\"div\");\n",
       "      bk_div.innerHTML = output.data[HTML_MIME_TYPE];\n",
       "      const script_attrs = bk_div.children[0].attributes;\n",
       "      for (let i = 0; i < script_attrs.length; i++) {\n",
       "        toinsert[toinsert.length - 1].firstChild.setAttribute(script_attrs[i].name, script_attrs[i].value);\n",
       "        toinsert[toinsert.length - 1].firstChild.textContent = bk_div.children[0].textContent\n",
       "      }\n",
       "      // store reference to server id on output_area\n",
       "      output_area._bokeh_server_id = output.metadata[EXEC_MIME_TYPE][\"server_id\"];\n",
       "    }\n",
       "  }\n",
       "\n",
       "  function register_renderer(events, OutputArea) {\n",
       "\n",
       "    function append_mime(data, metadata, element) {\n",
       "      // create a DOM node to render to\n",
       "      const toinsert = this.create_output_subarea(\n",
       "        metadata,\n",
       "        CLASS_NAME,\n",
       "        EXEC_MIME_TYPE\n",
       "      );\n",
       "      this.keyboard_manager.register_events(toinsert);\n",
       "      // Render to node\n",
       "      const props = {data: data, metadata: metadata[EXEC_MIME_TYPE]};\n",
       "      render(props, toinsert[toinsert.length - 1]);\n",
       "      element.append(toinsert);\n",
       "      return toinsert\n",
       "    }\n",
       "\n",
       "    /* Handle when an output is cleared or removed */\n",
       "    events.on('clear_output.CodeCell', handleClearOutput);\n",
       "    events.on('delete.Cell', handleClearOutput);\n",
       "\n",
       "    /* Handle when a new output is added */\n",
       "    events.on('output_added.OutputArea', handleAddOutput);\n",
       "\n",
       "    /**\n",
       "     * Register the mime type and append_mime function with output_area\n",
       "     */\n",
       "    OutputArea.prototype.register_mime_type(EXEC_MIME_TYPE, append_mime, {\n",
       "      /* Is output safe? */\n",
       "      safe: true,\n",
       "      /* Index of renderer in `output_area.display_order` */\n",
       "      index: 0\n",
       "    });\n",
       "  }\n",
       "\n",
       "  // register the mime type if in Jupyter Notebook environment and previously unregistered\n",
       "  if (root.Jupyter !== undefined) {\n",
       "    const events = require('base/js/events');\n",
       "    const OutputArea = require('notebook/js/outputarea').OutputArea;\n",
       "\n",
       "    if (OutputArea.prototype.mime_types().indexOf(EXEC_MIME_TYPE) == -1) {\n",
       "      register_renderer(events, OutputArea);\n",
       "    }\n",
       "  }\n",
       "  if (typeof (root._bokeh_timeout) === \"undefined\" || force === true) {\n",
       "    root._bokeh_timeout = Date.now() + 5000;\n",
       "    root._bokeh_failed_load = false;\n",
       "  }\n",
       "\n",
       "  const NB_LOAD_WARNING = {'data': {'text/html':\n",
       "     \"<div style='background-color: #fdd'>\\n\"+\n",
       "     \"<p>\\n\"+\n",
       "     \"BokehJS does not appear to have successfully loaded. If loading BokehJS from CDN, this \\n\"+\n",
       "     \"may be due to a slow or bad network connection. Possible fixes:\\n\"+\n",
       "     \"</p>\\n\"+\n",
       "     \"<ul>\\n\"+\n",
       "     \"<li>re-rerun `output_notebook()` to attempt to load from CDN again, or</li>\\n\"+\n",
       "     \"<li>use INLINE resources instead, as so:</li>\\n\"+\n",
       "     \"</ul>\\n\"+\n",
       "     \"<code>\\n\"+\n",
       "     \"from bokeh.resources import INLINE\\n\"+\n",
       "     \"output_notebook(resources=INLINE)\\n\"+\n",
       "     \"</code>\\n\"+\n",
       "     \"</div>\"}};\n",
       "\n",
       "  function display_loaded() {\n",
       "    const el = document.getElementById(\"p1001\");\n",
       "    if (el != null) {\n",
       "      el.textContent = \"BokehJS is loading...\";\n",
       "    }\n",
       "    if (root.Bokeh !== undefined) {\n",
       "      if (el != null) {\n",
       "        el.textContent = \"BokehJS \" + root.Bokeh.version + \" successfully loaded.\";\n",
       "      }\n",
       "    } else if (Date.now() < root._bokeh_timeout) {\n",
       "      setTimeout(display_loaded, 100)\n",
       "    }\n",
       "  }\n",
       "\n",
       "  function run_callbacks() {\n",
       "    try {\n",
       "      root._bokeh_onload_callbacks.forEach(function(callback) {\n",
       "        if (callback != null)\n",
       "          callback();\n",
       "      });\n",
       "    } finally {\n",
       "      delete root._bokeh_onload_callbacks\n",
       "    }\n",
       "    console.debug(\"Bokeh: all callbacks have finished\");\n",
       "  }\n",
       "\n",
       "  function load_libs(css_urls, js_urls, callback) {\n",
       "    if (css_urls == null) css_urls = [];\n",
       "    if (js_urls == null) js_urls = [];\n",
       "\n",
       "    root._bokeh_onload_callbacks.push(callback);\n",
       "    if (root._bokeh_is_loading > 0) {\n",
       "      console.debug(\"Bokeh: BokehJS is being loaded, scheduling callback at\", now());\n",
       "      return null;\n",
       "    }\n",
       "    if (js_urls == null || js_urls.length === 0) {\n",
       "      run_callbacks();\n",
       "      return null;\n",
       "    }\n",
       "    console.debug(\"Bokeh: BokehJS not loaded, scheduling load and callback at\", now());\n",
       "    root._bokeh_is_loading = css_urls.length + js_urls.length;\n",
       "\n",
       "    function on_load() {\n",
       "      root._bokeh_is_loading--;\n",
       "      if (root._bokeh_is_loading === 0) {\n",
       "        console.debug(\"Bokeh: all BokehJS libraries/stylesheets loaded\");\n",
       "        run_callbacks()\n",
       "      }\n",
       "    }\n",
       "\n",
       "    function on_error(url) {\n",
       "      console.error(\"failed to load \" + url);\n",
       "    }\n",
       "\n",
       "    for (let i = 0; i < css_urls.length; i++) {\n",
       "      const url = css_urls[i];\n",
       "      const element = document.createElement(\"link\");\n",
       "      element.onload = on_load;\n",
       "      element.onerror = on_error.bind(null, url);\n",
       "      element.rel = \"stylesheet\";\n",
       "      element.type = \"text/css\";\n",
       "      element.href = url;\n",
       "      console.debug(\"Bokeh: injecting link tag for BokehJS stylesheet: \", url);\n",
       "      document.body.appendChild(element);\n",
       "    }\n",
       "\n",
       "    for (let i = 0; i < js_urls.length; i++) {\n",
       "      const url = js_urls[i];\n",
       "      const element = document.createElement('script');\n",
       "      element.onload = on_load;\n",
       "      element.onerror = on_error.bind(null, url);\n",
       "      element.async = false;\n",
       "      element.src = url;\n",
       "      console.debug(\"Bokeh: injecting script tag for BokehJS library: \", url);\n",
       "      document.head.appendChild(element);\n",
       "    }\n",
       "  };\n",
       "\n",
       "  function inject_raw_css(css) {\n",
       "    const element = document.createElement(\"style\");\n",
       "    element.appendChild(document.createTextNode(css));\n",
       "    document.body.appendChild(element);\n",
       "  }\n",
       "\n",
       "  const js_urls = [\"https://cdn.bokeh.org/bokeh/release/bokeh-3.1.0.min.js\", \"https://cdn.bokeh.org/bokeh/release/bokeh-gl-3.1.0.min.js\", \"https://cdn.bokeh.org/bokeh/release/bokeh-widgets-3.1.0.min.js\", \"https://cdn.bokeh.org/bokeh/release/bokeh-tables-3.1.0.min.js\", \"https://cdn.bokeh.org/bokeh/release/bokeh-mathjax-3.1.0.min.js\"];\n",
       "  const css_urls = [];\n",
       "\n",
       "  const inline_js = [    function(Bokeh) {\n",
       "      Bokeh.set_log_level(\"info\");\n",
       "    },\n",
       "function(Bokeh) {\n",
       "    }\n",
       "  ];\n",
       "\n",
       "  function run_inline_js() {\n",
       "    if (root.Bokeh !== undefined || force === true) {\n",
       "          for (let i = 0; i < inline_js.length; i++) {\n",
       "      inline_js[i].call(root, root.Bokeh);\n",
       "    }\n",
       "if (force === true) {\n",
       "        display_loaded();\n",
       "      }} else if (Date.now() < root._bokeh_timeout) {\n",
       "      setTimeout(run_inline_js, 100);\n",
       "    } else if (!root._bokeh_failed_load) {\n",
       "      console.log(\"Bokeh: BokehJS failed to load within specified timeout.\");\n",
       "      root._bokeh_failed_load = true;\n",
       "    } else if (force !== true) {\n",
       "      const cell = $(document.getElementById(\"p1001\")).parents('.cell').data().cell;\n",
       "      cell.output_area.append_execute_result(NB_LOAD_WARNING)\n",
       "    }\n",
       "  }\n",
       "\n",
       "  if (root._bokeh_is_loading === 0) {\n",
       "    console.debug(\"Bokeh: BokehJS loaded, going straight to plotting\");\n",
       "    run_inline_js();\n",
       "  } else {\n",
       "    load_libs(css_urls, js_urls, function() {\n",
       "      console.debug(\"Bokeh: BokehJS plotting callback run at\", now());\n",
       "      run_inline_js();\n",
       "    });\n",
       "  }\n",
       "}(window));"
      ],
      "application/vnd.bokehjs_load.v0+json": "(function(root) {\n  function now() {\n    return new Date();\n  }\n\n  const force = true;\n\n  if (typeof root._bokeh_onload_callbacks === \"undefined\" || force === true) {\n    root._bokeh_onload_callbacks = [];\n    root._bokeh_is_loading = undefined;\n  }\n\n\n  if (typeof (root._bokeh_timeout) === \"undefined\" || force === true) {\n    root._bokeh_timeout = Date.now() + 5000;\n    root._bokeh_failed_load = false;\n  }\n\n  const NB_LOAD_WARNING = {'data': {'text/html':\n     \"<div style='background-color: #fdd'>\\n\"+\n     \"<p>\\n\"+\n     \"BokehJS does not appear to have successfully loaded. If loading BokehJS from CDN, this \\n\"+\n     \"may be due to a slow or bad network connection. Possible fixes:\\n\"+\n     \"</p>\\n\"+\n     \"<ul>\\n\"+\n     \"<li>re-rerun `output_notebook()` to attempt to load from CDN again, or</li>\\n\"+\n     \"<li>use INLINE resources instead, as so:</li>\\n\"+\n     \"</ul>\\n\"+\n     \"<code>\\n\"+\n     \"from bokeh.resources import INLINE\\n\"+\n     \"output_notebook(resources=INLINE)\\n\"+\n     \"</code>\\n\"+\n     \"</div>\"}};\n\n  function display_loaded() {\n    const el = document.getElementById(\"p1001\");\n    if (el != null) {\n      el.textContent = \"BokehJS is loading...\";\n    }\n    if (root.Bokeh !== undefined) {\n      if (el != null) {\n        el.textContent = \"BokehJS \" + root.Bokeh.version + \" successfully loaded.\";\n      }\n    } else if (Date.now() < root._bokeh_timeout) {\n      setTimeout(display_loaded, 100)\n    }\n  }\n\n  function run_callbacks() {\n    try {\n      root._bokeh_onload_callbacks.forEach(function(callback) {\n        if (callback != null)\n          callback();\n      });\n    } finally {\n      delete root._bokeh_onload_callbacks\n    }\n    console.debug(\"Bokeh: all callbacks have finished\");\n  }\n\n  function load_libs(css_urls, js_urls, callback) {\n    if (css_urls == null) css_urls = [];\n    if (js_urls == null) js_urls = [];\n\n    root._bokeh_onload_callbacks.push(callback);\n    if (root._bokeh_is_loading > 0) {\n      console.debug(\"Bokeh: BokehJS is being loaded, scheduling callback at\", now());\n      return null;\n    }\n    if (js_urls == null || js_urls.length === 0) {\n      run_callbacks();\n      return null;\n    }\n    console.debug(\"Bokeh: BokehJS not loaded, scheduling load and callback at\", now());\n    root._bokeh_is_loading = css_urls.length + js_urls.length;\n\n    function on_load() {\n      root._bokeh_is_loading--;\n      if (root._bokeh_is_loading === 0) {\n        console.debug(\"Bokeh: all BokehJS libraries/stylesheets loaded\");\n        run_callbacks()\n      }\n    }\n\n    function on_error(url) {\n      console.error(\"failed to load \" + url);\n    }\n\n    for (let i = 0; i < css_urls.length; i++) {\n      const url = css_urls[i];\n      const element = document.createElement(\"link\");\n      element.onload = on_load;\n      element.onerror = on_error.bind(null, url);\n      element.rel = \"stylesheet\";\n      element.type = \"text/css\";\n      element.href = url;\n      console.debug(\"Bokeh: injecting link tag for BokehJS stylesheet: \", url);\n      document.body.appendChild(element);\n    }\n\n    for (let i = 0; i < js_urls.length; i++) {\n      const url = js_urls[i];\n      const element = document.createElement('script');\n      element.onload = on_load;\n      element.onerror = on_error.bind(null, url);\n      element.async = false;\n      element.src = url;\n      console.debug(\"Bokeh: injecting script tag for BokehJS library: \", url);\n      document.head.appendChild(element);\n    }\n  };\n\n  function inject_raw_css(css) {\n    const element = document.createElement(\"style\");\n    element.appendChild(document.createTextNode(css));\n    document.body.appendChild(element);\n  }\n\n  const js_urls = [\"https://cdn.bokeh.org/bokeh/release/bokeh-3.1.0.min.js\", \"https://cdn.bokeh.org/bokeh/release/bokeh-gl-3.1.0.min.js\", \"https://cdn.bokeh.org/bokeh/release/bokeh-widgets-3.1.0.min.js\", \"https://cdn.bokeh.org/bokeh/release/bokeh-tables-3.1.0.min.js\", \"https://cdn.bokeh.org/bokeh/release/bokeh-mathjax-3.1.0.min.js\"];\n  const css_urls = [];\n\n  const inline_js = [    function(Bokeh) {\n      Bokeh.set_log_level(\"info\");\n    },\nfunction(Bokeh) {\n    }\n  ];\n\n  function run_inline_js() {\n    if (root.Bokeh !== undefined || force === true) {\n          for (let i = 0; i < inline_js.length; i++) {\n      inline_js[i].call(root, root.Bokeh);\n    }\nif (force === true) {\n        display_loaded();\n      }} else if (Date.now() < root._bokeh_timeout) {\n      setTimeout(run_inline_js, 100);\n    } else if (!root._bokeh_failed_load) {\n      console.log(\"Bokeh: BokehJS failed to load within specified timeout.\");\n      root._bokeh_failed_load = true;\n    } else if (force !== true) {\n      const cell = $(document.getElementById(\"p1001\")).parents('.cell').data().cell;\n      cell.output_area.append_execute_result(NB_LOAD_WARNING)\n    }\n  }\n\n  if (root._bokeh_is_loading === 0) {\n    console.debug(\"Bokeh: BokehJS loaded, going straight to plotting\");\n    run_inline_js();\n  } else {\n    load_libs(css_urls, js_urls, function() {\n      console.debug(\"Bokeh: BokehJS plotting callback run at\", now());\n      run_inline_js();\n    });\n  }\n}(window));"
     },
     "metadata": {},
     "output_type": "display_data"
    }
   ],
   "source": [
    "from bokeh.models import Circle, ColumnDataSource, MultiLine, NodesAndLinkedEdges, LabelSet\n",
    "from bokeh.plotting import figure\n",
    "from bokeh.plotting import from_networkx\n",
    "from bokeh.palettes import Blues8\n",
    "from bokeh.transform import linear_cmap\n",
    "from bokeh.io import output_notebook, show, save\n",
    "output_notebook()"
   ]
  },
  {
   "cell_type": "code",
   "execution_count": 3,
   "id": "94bd0ec7-5233-4654-ae13-39404c678c21",
   "metadata": {},
   "outputs": [],
   "source": [
    "from filtracion_archivos.prerrequisitos import cursos_ingenieria, diccionario_cursos_y_prerrequisitos"
   ]
  },
  {
   "cell_type": "code",
   "execution_count": 4,
   "id": "5270960a-67f2-472d-a71e-37d0b9768416",
   "metadata": {},
   "outputs": [],
   "source": [
    "from grafos.mismo_modulo import grafo_mismo_modulo, reemplazar_siglas_con_macrosecciones\n",
    "from filtracion_archivos.modulos import (cursos_y_horario,\n",
    "                                         limpieza_cursos,\n",
    "                                         ramos_mismo_modulo,\n",
    "                                         cursos_con_macroseccion)\n",
    "\n",
    "from grafos.drawing import dibujar_grafo"
   ]
  },
  {
   "cell_type": "markdown",
   "id": "6b8ca0bc-8d27-4c85-8df9-a898f2f3444c",
   "metadata": {},
   "source": [
    "# Prerrequisitos grafo"
   ]
  },
  {
   "cell_type": "code",
   "execution_count": 5,
   "id": "ab755642-3efe-4d9d-a057-9599575ba1ab",
   "metadata": {},
   "outputs": [
    {
     "name": "stderr",
     "output_type": "stream",
     "text": [
      "C:\\Users\\franc\\Desktop\\Universidad\\5TO SEMESTRE\\ICS2985_iPre\\src\\filtracion_archivos\\prerrequisitos.py:30: FutureWarning: The default value of regex will change from True to False in a future version.\n",
      "  dataframe_ing[\"Prerrequisitos\"] = dataframe_ing[\"Prerrequisitos\"].str.replace(\n",
      "C:\\Users\\franc\\Desktop\\Universidad\\5TO SEMESTRE\\ICS2985_iPre\\src\\filtracion_archivos\\prerrequisitos.py:30: SettingWithCopyWarning: \n",
      "A value is trying to be set on a copy of a slice from a DataFrame.\n",
      "Try using .loc[row_indexer,col_indexer] = value instead\n",
      "\n",
      "See the caveats in the documentation: https://pandas.pydata.org/pandas-docs/stable/user_guide/indexing.html#returning-a-view-versus-a-copy\n",
      "  dataframe_ing[\"Prerrequisitos\"] = dataframe_ing[\"Prerrequisitos\"].str.replace(\n",
      "C:\\Users\\franc\\Desktop\\Universidad\\5TO SEMESTRE\\ICS2985_iPre\\src\\filtracion_archivos\\prerrequisitos.py:33: SettingWithCopyWarning: \n",
      "A value is trying to be set on a copy of a slice from a DataFrame\n",
      "\n",
      "See the caveats in the documentation: https://pandas.pydata.org/pandas-docs/stable/user_guide/indexing.html#returning-a-view-versus-a-copy\n",
      "  dataframe_ing.drop(\"Escuela\", axis=1, inplace=True)\n"
     ]
    }
   ],
   "source": [
    "# Grafo prerrequisitos\n",
    "path_excel = os.path.join(\"excel_horarios\", \"Listado_materias.xlsx\")\n",
    "dataframe_ing = cursos_ingenieria(path_excel)\n",
    "cursos = diccionario_cursos_y_prerrequisitos(dataframe_ing)"
   ]
  },
  {
   "cell_type": "code",
   "execution_count": 6,
   "id": "50dd1e15-e1fd-4125-b546-38382f2785ce",
   "metadata": {},
   "outputs": [],
   "source": [
    "grafo_prerrequisitos = nx.from_dict_of_lists(cursos, create_using = nx.DiGraph)\n",
    "grafo_prerrequisitos = grafo_prerrequisitos.reverse()"
   ]
  },
  {
   "cell_type": "code",
   "execution_count": 7,
   "id": "6ffe2bf7-a4ca-445f-a373-1fc4b0c8163e",
   "metadata": {},
   "outputs": [],
   "source": [
    "# Los arcos que añadiremos al grafo de los módulos. Tengo que recordar ver el tema de las macrosecciones aquí también\n",
    "nuevos_arcos = dict()\n",
    "\n",
    "for nodo in grafo_prerrequisitos.nodes:\n",
    "    vecinos = [x for x in grafo_prerrequisitos.neighbors(nodo)]\n",
    "    if nodo not in nuevos_arcos.keys():\n",
    "        if len(vecinos) != 0:\n",
    "            nuevos_arcos[nodo] = vecinos\n",
    "    else:\n",
    "        nuevos_arcos[nodo].extend(vecinos)\n",
    "        \n",
    "# Tenemos que conectar la key, con todos los nodos en la lista asociada"
   ]
  },
  {
   "cell_type": "markdown",
   "id": "f7a70d6d-3690-4996-9417-f061c4e4a0ba",
   "metadata": {},
   "source": [
    "# Grafo modulos y macrosecciones"
   ]
  },
  {
   "cell_type": "code",
   "execution_count": 8,
   "id": "1de0eeff-a191-4ff1-8bba-cd4718c3788a",
   "metadata": {},
   "outputs": [
    {
     "ename": "TypeError",
     "evalue": "reemplazar_siglas_con_macrosecciones() missing 1 required positional argument: 'cursos_a_eliminar'",
     "output_type": "error",
     "traceback": [
      "\u001b[1;31m---------------------------------------------------------------------------\u001b[0m",
      "\u001b[1;31mTypeError\u001b[0m                                 Traceback (most recent call last)",
      "Cell \u001b[1;32mIn[8], line 5\u001b[0m\n\u001b[0;32m      3\u001b[0m macrosecciones \u001b[38;5;241m=\u001b[39m cursos_con_macroseccion(cursos_con_horario)\n\u001b[0;32m      4\u001b[0m grafo_modulos \u001b[38;5;241m=\u001b[39m grafo_mismo_modulo(path_excel_2)\n\u001b[1;32m----> 5\u001b[0m grafo_modulos \u001b[38;5;241m=\u001b[39m \u001b[43mreemplazar_siglas_con_macrosecciones\u001b[49m\u001b[43m(\u001b[49m\u001b[43mgrafo_modulos\u001b[49m\u001b[43m,\u001b[49m\u001b[43m \u001b[49m\u001b[43mmacrosecciones\u001b[49m\u001b[43m)\u001b[49m\n",
      "\u001b[1;31mTypeError\u001b[0m: reemplazar_siglas_con_macrosecciones() missing 1 required positional argument: 'cursos_a_eliminar'"
     ]
    }
   ],
   "source": [
    "path_excel_2 = os.path.join(\"excel_horarios\", \"Listado_NRC.xlsx\")\n",
    "cursos_con_horario = cursos_y_horario(path_excel_2)\n",
    "macrosecciones = cursos_con_macroseccion(cursos_con_horario)\n",
    "grafo_modulos = grafo_mismo_modulo(path_excel_2)\n",
    "grafo_modulos = reemplazar_siglas_con_macrosecciones(grafo_modulos, macrosecciones)"
   ]
  },
  {
   "cell_type": "code",
   "execution_count": 9,
   "id": "9daf995c-037e-47e3-b4a0-6d4423db9e90",
   "metadata": {},
   "outputs": [
    {
     "data": {
      "text/plain": [
       "{'ICH2314-1': 'A3_MS1 - Macrosección 1',\n",
       " 'ICH3314-1': 'A3_MS1 - Macrosección 1',\n",
       " 'IMM2521-1': 'B0_MS1 - Macrosección 1',\n",
       " 'IMM3521-1': 'B0_MS1 - Macrosección 1',\n",
       " 'IIC1103-6': 'B1_MS1 - Macrosección 1',\n",
       " 'IIC1103-12': 'B1_MS1 - Macrosección 1',\n",
       " 'IEE2714-1': 'B2_MS1 - Macrosección 1',\n",
       " 'IIC2714-1': 'B2_MS1 - Macrosección 1',\n",
       " 'IIC3724-1': 'B3_MS1 - Macrosección 1',\n",
       " 'IEE3724-1': 'B3_MS1 - Macrosección 1',\n",
       " 'IMT3840-1': 'B6_MS1 - Macrosección 1',\n",
       " 'IBM3002-1': 'B6_MS1 - Macrosección 1',\n",
       " 'ICS3502-1': 'B8_MS1 - Macrosección 1',\n",
       " 'ICS3313-3': 'B8_MS1 - Macrosección 1',\n",
       " 'IEE3864-1': 'C1_MS1 - Macrosección 1',\n",
       " 'ICS3013-3': 'C4_MS1 - Macrosección 1',\n",
       " 'ICS3013-1': 'C4_MS1 - Macrosección 1',\n",
       " 'ICS3013-4': 'C4_MS1 - Macrosección 1',\n",
       " 'ICS3013-6': 'C4_MS1 - Macrosección 1',\n",
       " 'ICS3013-5': 'C5_MS1 - Macrosección 1',\n",
       " 'ICS3013-7': 'C5_MS1 - Macrosección 1',\n",
       " 'ICS3013-2': 'C5_MS1 - Macrosección 1',\n",
       " 'ICS2122-1': 'C8_MS1 - Macrosección 1',\n",
       " 'ICS2122-2': 'C8_MS1 - Macrosección 1',\n",
       " 'ICM2503-1': 'H6_MS1 - Macrosección 1',\n",
       " 'ICM2503-2': 'H6_MS1 - Macrosección 1',\n",
       " 'ICM2503-3': 'H6_MS1 - Macrosección 1',\n",
       " 'ICM2503-4': 'H7_MS1 - Macrosección 1',\n",
       " 'ICM2503-5': 'H7_MS1 - Macrosección 1',\n",
       " 'ICT3103-1': 'I3_MS1 - Macrosección 1',\n",
       " 'ICM2813-1': 'I5_MS1 - Macrosección 1',\n",
       " 'ICM2813-2': 'I5_MS1 - Macrosección 1',\n",
       " 'ICC2312-1': 'I6_MS1 - Macrosección 1',\n",
       " 'ICC3312-1': 'I6_MS1 - Macrosección 1',\n",
       " 'IEE3893-1': 'I7_MS1 - Macrosección 1',\n",
       " 'IMT2117-1': 'J7_MS1 - Macrosección 1',\n",
       " 'IIC3284-1': 'J7_MS1 - Macrosección 1',\n",
       " 'IBM2020-1': 'K6_MS1 - Macrosección 1',\n",
       " 'ICE2020-1': 'K6_MS1 - Macrosección 1',\n",
       " 'IIQ2013-1': 'R2_MS1 - Macrosección 1',\n",
       " 'IIQ2013-3': 'R2_MS1 - Macrosección 1',\n",
       " 'IIQ2013-2': 'R2_MS1 - Macrosección 1',\n",
       " 'IIQ2023-2': 'R3_MS1 - Macrosección 1',\n",
       " 'IIQ2023-3': 'R3_MS1 - Macrosección 1',\n",
       " 'IIQ2023-1': 'R3_MS1 - Macrosección 1',\n",
       " 'IEE2433-1': 'T1_MS1 - Macrosección 1',\n",
       " 'IEE3433-1': 'T1_MS1 - Macrosección 1',\n",
       " 'ICC2913-1': 'W0_MS1 - Macrosección 1',\n",
       " 'ICC3914-1': 'W0_MS1 - Macrosección 1',\n",
       " 'ICT3113-2': 'Z8_MS1 - Macrosección 1',\n",
       " 'ICT3113-1': 'Z8_MS1 - Macrosección 1',\n",
       " 'ICT3113-3': 'Z8_MS1 - Macrosección 1'}"
      ]
     },
     "execution_count": 9,
     "metadata": {},
     "output_type": "execute_result"
    }
   ],
   "source": [
    "curso_en_macrossecion = dict()\n",
    "\n",
    "for macroseccion, sigla_secc in macrosecciones.items():\n",
    "    for i in sigla_secc:\n",
    "        curso_en_macrossecion[i] = macroseccion\n",
    "\n",
    "curso_en_macrossecion"
   ]
  },
  {
   "cell_type": "code",
   "execution_count": 10,
   "id": "766b5ce4-863b-4e88-954c-60a7a9f45fe2",
   "metadata": {},
   "outputs": [
    {
     "name": "stdout",
     "output_type": "stream",
     "text": [
      "Hay 324 ramos con prerrequisitos\n",
      "El valor de contador es {} 48\n"
     ]
    }
   ],
   "source": [
    "### Otra posible implementación. Me gusta más esta, queda más claro.\n",
    "lista_nodos_modulos = list(grafo_modulos.nodes)\n",
    "lista_nodos_prerrequisitos = list(grafo_prerrequisitos.nodes)\n",
    "arcos_agregar = list()\n",
    "\n",
    "contador_ramos_con_pre = 0\n",
    "for i in lista_nodos_prerrequisitos:\n",
    "    vecinos = [x for x in grafo_prerrequisitos.neighbors(i)]\n",
    "    if len(vecinos) != 0:\n",
    "\n",
    "        contador_ramos_con_pre += 1\n",
    "        arcos_agregar.append([i, vecinos])\n",
    "\n",
    "print(f\"Hay {contador_ramos_con_pre} ramos con prerrequisitos\")\n",
    "contador = 0\n",
    "# print(arcos_agregar)\n",
    "for arco in arcos_agregar:\n",
    "    ramos_con_misma_sigla = list(filter(lambda x: arco[0] in x, lista_nodos_modulos))  \n",
    "    prerrequisitos_a_agregar = list()\n",
    " \n",
    "    for prerreq in arco[1]:\n",
    "        for sigla_seccion in lista_nodos_modulos:\n",
    "            if prerreq in sigla_seccion:\n",
    "                prerrequisitos_a_agregar.append(sigla_seccion)\n",
    "        \n",
    "    \n",
    "    if len(ramos_con_misma_sigla) != 0 and len(prerrequisitos_a_agregar) != 0:\n",
    "        \n",
    "        # print(f\"La sigla es {ramos_con_misma_sigla} y los prerrequisitos a agregar son {prerrequisitos_a_agregar}\\n\")\n",
    "        for sigla_seccion_ramo in ramos_con_misma_sigla:\n",
    "            for prerrequisito_seccion in prerrequisitos_a_agregar:\n",
    "                if sigla_seccion_ramo in curso_en_macrossecion.keys():\n",
    "                    \n",
    "                    if prerrequisito_seccion in curso_en_macrossecion.keys():\n",
    "                        grafo_modulos.add_edge(curso_en_macrossecion[sigla_seccion_ramo], curso_en_macrossecion[prerrequisito_seccion])\n",
    "                    else:\n",
    "                        grafo_modulos.add_edge(curso_en_macrossecion[sigla_seccion_ramo] , prerrequisito_seccion)\n",
    "                \n",
    "                elif prerrequisito_seccion in curso_en_macrossecion.keys() and sigla_seccion_ramo not in curso_en_macrossecion.keys():\n",
    "                    grafo_modulos.add_edge(sigla_seccion_ramo, curso_en_macrossecion[prerrequisito_seccion])\n",
    "                \n",
    "                else:\n",
    "                    grafo_modulos.add_edge(sigla_seccion_ramo, prerrequisito_seccion)\n",
    "                    \n",
    "        contador += 1\n",
    "        \n",
    "print(\"El valor de contador es {}\", contador)"
   ]
  },
  {
   "cell_type": "code",
   "execution_count": 11,
   "id": "69757a40-5e34-4cf5-8d13-2f496dad59a2",
   "metadata": {},
   "outputs": [
    {
     "ename": "ValueError",
     "evalue": "failed to validate StaticLayoutProvider(id='p1083', ...).graph_layout: expected an element of Dict(Int, Seq(Any)), got {'IEE0020-1': array([-0.26700983, -0.73175523]), 'ICH0020-1': array([-0.27930742, -0.73304084]), 'ING0901-1': array([-0.24800613, -0.73492377]), 'IIC1062-1': array([-0.73022236, -0.70151967]), 'IIC2513-1': array([-0.06673282, -0.21738209]), 'ICC2204-1': array([-0.79314536,  0.21242572]), 'ICC2312-1': array([ 0.90692795, -0.43027491]), 'ICE2633-1': array([-0.60658597, -0.82810785]), 'ICE2703-1': array([ 0.09097898, -0.18378465]), 'ICH2204-1': array([0.00027098, 0.08970451]), 'ICH2304-1': array([0.10289363, 0.07059752]), 'ICM2213-1': array([-0.19105887,  0.05222423]), 'ICM2333-1': array([0.73598199, 0.55911541]), 'IMM2013-1': array([-0.36269344,  0.8721699 ]), 'IMM2043-1': array([ 0.11828691, -0.11286003]), 'IIQ2303-1': array([ 0.86398987, -0.16402328]), 'IEE2113-1': array([-0.96027142,  0.00343719]), 'ICS2123-1': array([ 0.70765069, -0.15842185]), 'ICS1113-4': array([-0.12333075,  0.27123033]), 'IBM2020-1': array([-0.1898651,  0.8693915]), 'ICE2020-1': array([ 0.46474267, -0.80876234]), 'IIC2513-2': array([-0.05383099, -0.21935205]), 'ING0907-1': array([ 0.8653407 , -0.34365118]), 'IIC3724-1': array([-0.59970674,  0.80582671]), 'IIQ3683-1': array([0.91450034, 0.30832237]), 'IMM3403-1': array([-0.88317321, -0.5834989 ]), 'ICS3313-1': array([-0.42041728,  0.76428043]), 'ICS3313-2': array([ 0.31921306, -0.90183332]), 'ICS3723-1': array([ 0.69133445, -0.17198239]), 'ICT3283-1': array([ 0.57863471, -0.36440088]), 'IEE3724-1': array([-0.64401966,  0.75383944]), 'ICH3374-1': array([0.80824867, 0.63127474]), 'IEE3864-1': array([-0.07537543, -0.94721074]), 'ICC3312-1': array([-0.76542984,  0.44440044]), 'ICS3413-3': array([0.13653324, 0.44907739]), 'ICE3443-1': array([0.9368015 , 0.24171962]), 'IBM3201-1': array([ 0.78894189, -0.38789636]), 'ICS3151-1': array([-0.99714279,  0.17458221]), 'ICM3235-1': array([-0.16406791,  0.05022273]), 'IMI3400-1': array([-0.10488973,  0.91484927]), 'IMI3500-1': array([-0.26160677, -0.74413992]), 'IMI3600-1': array([-0.8578495,  0.4776564]), 'IMI3750-1': array([-0.24281346, -0.66292665]), 'IEG4970-1': array([ 0.15147689, -0.46432377]), 'IEG3220-1': array([ 0.15538887, -0.45354002]), 'IEG3500-1': array([ 0.1251982, -0.4452116]), 'ICC2290-1': array([-0.11821124, -0.07831392]), 'IEE2224-1': array([-0.11143115, -0.08089558]), 'IIC2154-3': array([-0.12113832, -0.10771341]), 'IIC2154-4': array([-0.1246112 , -0.10687768]), 'ICM2026-1': array([-0.10159909, -0.04609933]), 'IEE3674-1': array([-0.11733717, -0.06201558]), 'IIC1005-1': array([ 0.79034446, -0.65996141]), 'IIC2713-1': array([-0.15430704, -0.24013431]), 'ICC2304-1': array([-0.72501579,  0.19189679]), 'ICE2623-1': array([-0.91387881,  0.42526148]), 'ICH1005-1': array([-0.65560411,  0.68183928]), 'ICH2304-2': array([0.10107824, 0.05983923]), 'ICT2904-1': array([-0.00672259,  0.33809595]), 'IEE2713-1': array([-0.67404483, -0.77996051]), 'ICS1113-1': array([-0.11490511,  0.26723094]), 'ICS2023-1': array([ 0.62725337, -0.8080811 ]), 'ICS2123-2': array([ 0.70174959, -0.16348929]), 'IIQ1003-2': array([-0.88555616, -0.44221809]), 'IIC2713-2': array([-0.13457641, -0.25334744]), 'ICS2122-1': array([-0.98137032,  0.1098449 ]), 'IIC1103-6': array([0.36617047, 0.90930182]), 'ICS2122-2': array([-0.12927116, -0.9233594 ]), 'IIC1103-10': array([-0.16867955,  0.34643662]), 'IMT2118-1': array([ 0.86524923, -0.46320546]), 'IIC2713-3': array([-0.14701775, -0.25007096]), 'IIC1103-12': array([ 0.97715325, -0.1022143 ]), 'IIC2026-1': array([0.83331703, 0.35060107]), 'ICE2643-1': array([0.25957604, 0.9113801 ]), 'IIC3253-1': array([-0.48575596, -0.57711293]), 'IMM3323-1': array([ 0.51803769, -0.7948941 ]), 'ICH3600-1': array([0.13110096, 0.06498559]), 'ICM3243-1': array([-1.        ,  0.04101952]), 'ICS3413-2': array([0.14395519, 0.44625459]), 'IIQ3733-1': array([-0.55338209,  0.79564017]), 'ICT3984-2': array([ 0.59282954, -0.36031286]), 'ICS3213-3': array([ 0.72086794, -0.175938  ]), 'ICT3464-1': array([-0.14740534,  0.30930737]), 'IEE3202-1': array([-0.69474878, -0.5769931 ]), 'ICT3115-1': array([ 0.9626974 , -0.03212146]), 'IBM3810-1': array([-0.69816196,  0.66286211]), 'IMM1003-1': array([-0.11894903,  0.143474  ]), 'ICM1001-1': array([-0.14195247,  0.11207053]), 'IIQ2013-1': array([-0.10374297,  0.13446202]), 'IIQ2013-3': array([-0.10026631,  0.12196769]), 'IIQ2013-2': array([-0.11164507,  0.13917064]), 'ICC2234-1': array([-0.13493189,  0.14118913]), 'ICM2223-1': array([-0.12381328,  0.05766257]), 'ICS2523-4': array([-0.12102771,  0.20170716]), 'IIQ2003-1': array([-0.12604027,  0.10454392]), 'IIC1001-1': array([-0.13792695,  0.13371923]), 'ICC3124-1': array([-0.13558134,  0.10606022]), 'ICE3233-1': array([-0.14423886,  0.11984951]), 'ING3820-2': array([-0.11501783,  0.11765697]), 'ING3821-2': array([-0.11746293,  0.11680861]), 'IDT3020-1': array([-0.12021012,  0.12530196]), 'ICH3222-1': array([-0.07338847,  0.1088859 ]), 'ICE3693-1': array([-0.14455934,  0.12854333]), 'IMT3830-1': array([-0.13447377,  0.1226419 ]), 'IEE3154-1': array([-0.12696166,  0.14030812]), 'IEG3520-1': array([ 0.10689729, -0.49275977]), 'IEG3200-1': array([ 0.12435506, -0.52404413]), 'IEN3660-1': array([-0.38610441,  0.93429286]), 'IEN3510-1': array([0.68872011, 0.36529379]), 'IEN3620-1': array([0.67211833, 0.3630174 ]), 'IEN3140-2': array([0.68330664, 0.37892506]), 'IEN3210-2': array([0.69535044, 0.37616923]), 'INF4970-1': array([0.44413853, 0.64210898]), 'IEN3210-1': array([0.43283282, 0.63911108]), 'IEN4970-1': array([0.44447129, 0.63041092]), 'INF4970-2': array([0.4275898 , 0.61851983]), 'ING1024-1': array([ 0.92013029, -0.1662736 ]), 'ICT2213-1': array([-0.07652894,  0.29415226]), 'IMT2111-1': array([0.88392557, 0.43204767]), 'ING102G-1': array([-0.73518771, -0.75459443]), 'ICC3264-1': array([-0.59036619, -0.73851194]), 'ICS3762-1': array([-0.14153   ,  0.23590825]), 'IEE3373-1': array([ 0.74846084, -0.54097938]), 'ICS3013-5': array([-0.90844761, -0.26869385]), 'ICS3013-7': array([-0.91286251,  0.30120054]), 'ICS3013-2': array([0.88735497, 0.47111509]), 'IIQ3643-1': array([-0.82647294, -0.41169611]), 'ICM3251-1': array([-0.16666075,  0.05988266]), 'IMT3840-1': array([-0.23377983,  0.89684806]), 'IBM3002-1': array([-0.906868  , -0.47356765]), 'ICS3811-1': array([-0.13297281,  0.23631103]), 'IIC2154-1': array([-0.13946284, -0.13777662]), 'IIC2154-2': array([-0.14209041, -0.13461096]), 'ICT3544-1': array([-0.1669517 , -0.14565361]), 'ICM2343-1': array([-0.19233401, -0.16289259]), 'IIC2173-2': array([-0.18617951, -0.17137002]), 'IIC3103-1': array([-0.15309352, -0.14649313]), 'IEE2913-1': array([0.05564494, 0.38657101]), 'ICS2613-3': array([0.11067454, 0.42382044]), 'ICS3502-1': array([0.07242659, 0.41424074]), 'ICS3313-3': array([0.05928207, 0.42225292]), 'ICS2121-1': array([ 0.72393203, -0.12459381]), 'IMM2003-1': array([ 0.61857752, -0.85025619]), 'IFI1001-1': array([-0.36088273, -0.91614118]), 'IIC2113-1': array([ 0.73701927, -0.66048157]), 'IIC100G-1': array([0.44793179, 0.83294394]), 'ICE2028-1': array([0.8614128 , 0.15296896]), 'ICS3582-1': array([-0.09467694,  0.8118329 ]), 'ICS3805-1': array([ 0.73653776, -0.17893356]), 'ICM3762-1': array([-0.02018092, -0.04925096]), 'IBM3101-1': array([-0.79973539,  0.61593482]), 'IMT3800-1': array([0.21931045, 0.95860104]), 'IIC2143-1': array([-0.16396337, -0.11143457]), 'IIQ2663-1': array([-0.44946561,  0.80715272]), 'IMT1001-1': array([-0.1519946 ,  0.36610444]), 'IBM1005-1': array([ 0.86201327, -0.25894423]), 'ICE2313-1': array([-0.59585093, -0.7849684 ]), 'ICH1104-1': array([-0.05015568,  0.01631915]), 'ICH2124-1': array([-0.02881539,  0.05618432]), 'ICM2413-1': array([-0.46186732, -0.92253765]), 'ICT2233-1': array([-0.12510379,  0.29267895]), 'IEE2103-1': array([-0.31545211, -0.06025653]), 'IEE2413-1': array([-0.12251081,  0.0394378 ]), 'IEE2613-1': array([-0.10761837,  0.00228164]), 'ICS2523-2': array([-0.1264061 ,  0.25406868]), 'ICS2813-2': array([0.89594245, 0.37862164]), 'ICH1104-3': array([-0.05482107,  0.01173   ]), 'ICM2003-1': array([-0.52601095, -0.83916179]), 'IIQ2363-1': array([ 0.9245278 , -0.08296014]), 'ICM2028-1': array([-0.78469828, -0.67879962]), 'IMM2073-1': array([0.67811333, 0.75869243]), 'ICE1514-1': array([-0.46502328, -0.83436521]), 'IIC2143-2': array([-0.16239557, -0.10746769]), 'IIC1103-11': array([-0.1723452 ,  0.35565628]), 'IBM2012-1': array([0.90106645, 0.05923273]), 'IMT2117-1': array([0.98542073, 0.01205125]), 'ICS2563-2': array([-0.80314504, -0.49495074]), 'ICE3413-1': array([-0.97242758,  0.27623489]), 'ICT3273-1': array([ 0.51987231, -0.58172868]), 'IEE3764-1': array([-0.18435569, -0.95673252]), 'IIQ3602-1': array([-0.34555278,  0.91756807]), 'IMT3130-1': array([0.44955052, 0.90034149]), 'ING3810-1': array([-0.57864961, -0.87312624]), 'ING3810-2': array([ 0.53867809, -0.8801026 ]), 'ING3810-3': array([-0.27793948,  0.92467428]), 'ICT3435-1': array([-0.07141112,  0.3319556 ]), 'IIC3284-1': array([-0.81325494,  0.52324859]), 'IEN3110-1': array([-0.96775174,  0.21114609]), 'IND3110-2': array([-0.05463408, -0.46575393]), 'IND3121-2': array([-0.06549817, -0.46801557]), 'IAC3901-1': array([-0.07026326, -0.43584892]), 'IIC1062-2': array([-0.08403958,  0.98862162]), 'IMM2213-1': array([ 0.67854104, -0.69656839]), 'ICE2114-1': array([0.73973284, 0.31292178]), 'ICM2313-1': array([-0.38498933, -0.8450119 ]), 'ICS2613-2': array([0.14713249, 0.47043077]), 'ICT2303-1': array([ 0.39253072, -0.81706721]), 'IEE2343-1': array([0.01332165, 0.93466322]), 'IEE2513-1': array([ 0.7335629 , -0.73049985]), 'IIQ2023-2': array([-0.62716994, -0.67381798]), 'IIQ2023-3': array([ 0.70485113, -0.49020159]), 'IIQ2023-1': array([-0.44674199, -0.89333325]), 'ICH2314-1': array([-0.32424596, -0.97241733]), 'ICE2640-1': array([-0.30179257, -0.8965013 ]), 'ICC2913-1': array([-0.15297062,  0.95359046]), 'ICS2123-3': array([ 0.70797751, -0.16655337]), 'ICS113H-1': array([ 0.39439781, -0.9129487 ]), 'IEE2753-1': array([0.59970517, 0.74080767]), 'IIC2613-1': array([ 0.00755704, -0.23832733]), 'IIC1103-7': array([-0.1398733 ,  0.36686944]), 'IIC1103-8': array([-0.12856919,  0.36849457]), 'IIC2764-1': array([-0.10898399, -0.32820866]), 'ICM2203-1': array([ 0.73363724, -0.76440284]), 'ICE2006-1': array([-0.91715533, -0.40184806]), 'IIC2173-1': array([-0.59854598,  0.7300659 ]), 'IIC3113-1': array([-0.43834019,  0.86127825]), 'ICT3523-1': array([0.30128428, 0.91545396]), 'ICC3914-1': array([ 0.60817698, -0.73565106]), 'IMT3500-1': array([ 0.09597424, -0.96542577]), 'ICC3253-1': array([ 0.92308918, -0.32893692]), 'ICH3314-1': array([-0.69969455,  0.72318119]), 'IIC3113-2': array([0.54609062, 0.78612329]), 'ICS3213-4': array([ 0.72322938, -0.1590659 ]), 'IDT3010-1': array([-0.83593326,  0.44331987]), 'IMM3212-1': array([-0.00286536, -0.02731712]), 'IIC1103-2': array([-0.13122401,  0.35815747]), 'IIC1103-4': array([-0.13825349,  0.37542745]), 'IIC1103-3': array([-0.16217256,  0.36136596]), 'IIC1103-1': array([-0.16769259,  0.36790844]), 'IIC1253-1': array([0.80001063, 0.07952108]), 'IIC2343-1': array([ 0.94813133, -0.22458625]), 'IIC2733-1': array([ 0.17690154, -0.93970445]), 'IIQ1001-1': array([ 0.11306848, -0.84866505]), 'ICE2604-1': array([-0.13790268, -0.40337304]), 'ICH2214-1': array([0.60522484, 0.69017317]), 'ICM2803-1': array([ 0.96097983, -0.2563253 ]), 'ICT2223-1': array([ 0.53159109, -0.59651675]), 'IEE2213-1': array([ 0.80835488, -0.44150335]), 'ICS2523-1': array([-0.13358558,  0.25542667]), 'ICS2813-1': array([ 0.93887395, -0.38117755]), 'IMM2521-1': array([-0.28994916,  0.83152044]), 'ICS1113-3': array([-0.12038214,  0.26696626]), 'IEE2123-1': array([-0.77826658, -0.61704253]), 'IIC1253-2': array([0.80666503, 0.06728061]), 'IIQ2673-1': array([-0.96187185, -0.29140517]), 'ICC2105-1': array([0.9478736 , 0.33260398]), 'IIC1103-5': array([-0.15872818,  0.35097641]), 'IIC1103-9': array([-0.14642613,  0.35680587]), 'ICM2813-1': array([ 0.60425496, -0.64941458]), 'IIC2733-2': array([0.95053753, 0.13697954]), 'IIC1253-3': array([0.75105308, 0.06763912]), 'ICM2813-2': array([0.74699474, 0.47191389]), 'IIC2343-2': array([-0.99436347, -0.11108806]), 'IDI2015-1': array([-0.54061008,  0.72516098]), 'ICS2563-1': array([ 0.85810371, -0.50999142]), 'IMM3521-1': array([ 0.82289697, -0.55104638]), 'ICE3124-1': array([0.74621252, 0.29987405]), 'ICS3213-2': array([ 0.71237893, -0.18054533]), 'ICS3413-1': array([0.13251736, 0.45643863]), 'ICT3103-1': array([-0.74282074,  0.65696574]), 'IIQ3343-1': array([0.88734647, 0.23494374]), 'ICH3364-1': array([ 0.19105948, -0.9107334 ]), 'ICE3613-1': array([0.85715156, 0.52825908]), 'IIQ3663-1': array([ 0.56574663, -0.79865561]), 'IEE3610-1': array([-0.14095235, -0.00328833]), 'ICM3553-1': array([-0.08210709, -0.06226741]), 'ICC3543-1': array([-0.68958809,  0.58010033]), 'IMT3150-1': array([0.47606641, 0.79964245]), 'IIC3697-1': array([ 0.01814356, -0.27603511]), 'IEE3234-1': array([-0.75238961, -0.59743091]), 'IBM3104-2': array([-0.73313607, -0.48230744]), 'IIC2133-1': array([-0.50188166,  0.81644781]), 'IIQ2043-1': array([-0.24721727,  0.97320632]), 'IBM2121-1': array([0.74081113, 0.66202475]), 'ICH1104-2': array([ 0.01905049, -0.04188782]), 'ICH2114-1': array([-0.94015892, -0.21946215]), 'IEE2714-1': array([0.97416641, 0.07828909]), 'IIC2714-1': array([-0.94476238, -0.35525201]), 'IIC2685-1': array([0.52191071, 0.76175576]), 'IEE2393-1': array([-0.75801385,  0.57890122]), 'ICS2813-3': array([ 0.29746368, -0.85204122]), 'IIQ2623-1': array([0.66494787, 0.60597726]), 'ICM2403-1': array([0.75056836, 0.59722777]), 'IIC2133-2': array([-0.50009805,  0.89049337]), 'IMM2503-1': array([-0.97654203, -0.21981662]), 'ICC1001-1': array([0.08597225, 0.95872604]), 'ICC3434-1': array([-0.91416577, -0.12934354]), 'ICS3013-3': array([0.34198742, 0.87673519]), 'ICS3013-1': array([-0.05308533,  0.9583016 ]), 'ICS3013-4': array([-0.4393372 , -0.72767811]), 'IIC3242-1': array([0.78298694, 0.06557407]), 'ICS3013-6': array([-0.99997965, -0.17504367]), 'ICE3663-1': array([0.39917141, 0.8542888 ]), 'IEE3893-1': array([0.12567808, 0.87235158]), 'ICT3440-1': array([-0.11788852,  0.32354476]), 'ICS3013-8': array([0.8054408 , 0.48090502]), 'ICE3513-1': array([-0.90723192, -0.34159725]), 'IIC3585-1': array([-0.05326214, -0.18714923]), 'IND3830-1': array([-0.05270069,  0.31952675]), 'ICT3256-1': array([-0.05978819,  0.32638432]), 'IDI2995-1': array([-0.67139231, -0.73986117]), 'IEG3700-1': array([ 0.09757349, -0.47489363]), 'IEG3300-1': array([ 0.08129051, -0.45383711]), 'IEG3280-1': array([ 0.09022035, -0.48551928]), 'IEN3120-1': array([0.44852211, 0.01452407]), 'IEN3540-1': array([0.44183168, 0.02134203]), 'INF3230-1': array([0.44372523, 0.00602991]), 'INF3261-1': array([0.43621989, 0.00426749]), 'INF3290-1': array([0.43091944, 0.01646489]), 'INF3592-1': array([0.43097385, 0.02366614]), 'INF3590-1': array([0.43008655, 0.00395502]), 'INF3831-1': array([0.42475159, 0.0145811 ]), 'INF3801-1': array([0.43619207, 0.02084028]), 'INF3841-1': array([0.44196582, 0.01262218]), 'INF3242-1': array([0.42969181, 0.00977032]), 'IIQ213Q-1': array([0.112971  , 0.92202938]), 'IIC2413-1': array([-0.11331182, -0.15831157]), 'IIC2413-2': array([-0.11793007, -0.15902496]), 'IIC2413-3': array([-0.1156846 , -0.15588027]), 'IIC2440-1': array([-0.12099208, -0.18495117]), 'ICM3213-1': array([-0.1274614 , -0.18375259]), 'IIC3743-1': array([-0.12209947, -0.21923966]), 'IDT4030-1': array([-0.11516371, -0.18266259]), 'IEN3610-1': array([-0.82350574,  0.08444848]), 'IEN3550-1': array([-0.79011057,  0.08279621]), 'IEN3110-2': array([-0.81235345,  0.0907514 ]), 'IEN3220-2': array([-0.81228748,  0.07762436]), 'IMI3100-1': array([-0.25521574, -0.70559622]), 'ICE2823-1': array([ 0.05369798, -0.20944999]), 'IBM2122-1': array([ 0.0917329 , -0.22264479]), 'IIC2433-1': array([ 0.07601572, -0.22628566]), 'IDI1015-2': array([ 0.08489099, -0.22113738]), 'IDI1015-1': array([ 0.09092938, -0.23133711]), 'IDI2025-1': array([ 0.08217502, -0.22823735]), 'IRB1010-1': array([ 0.07849091, -0.23741873]), 'IIC3182-1': array([ 0.08548873, -0.23654171]), 'INP3611-1': array([-0.49790741, -0.23617983]), 'IEN3240-1': array([-0.50286872, -0.25279366]), 'INF3511-1': array([-0.51256947, -0.24504511]), 'INF3591-1': array([-0.51030318, -0.23366976]), 'INF3211-1': array([-0.51413077, -0.23893144]), 'INF3541-1': array([-0.5020695 , -0.24025991]), 'IMT3860-1': array([-0.50429664, -0.2321007 ]), 'INF3862-1': array([-0.49494299, -0.24535909]), 'INF3842-1': array([-0.51199937, -0.25124649]), 'INF3543-1': array([-0.50060064, -0.24736636]), 'ICE2533-1': array([ 0.08157864, -0.1553759 ]), 'IMM2053-1': array([ 0.0624075 , -0.08446553]), 'IEE2463-1': array([ 0.08424554, -0.12393435]), 'IMM3005-1': array([ 0.09041185, -0.12059302]), 'IMM3005-3': array([ 0.09588141, -0.12134774]), 'ICE3753-1': array([ 0.10199658, -0.14572715]), 'IIC2333-1': array([-0.46309227, -0.55218926]), 'IIQ1003-1': array([ 0.66894834, -0.75841847]), 'IIQ2133-1': array([ 0.76800416, -0.60445629]), 'ING1004-8': array([-0.92680677,  0.07079904]), 'ING1004-4': array([ 0.48434644, -0.92291907]), 'ING1004-3': array([0.81270321, 0.56934659]), 'ING1004-6': array([0.15979841, 0.98469852]), 'ING1004-1': array([ 0.41363784, -0.85694044]), 'ING1004-7': array([-0.80445505,  0.57043517]), 'ING1004-5': array([-0.93872287,  0.3585126 ]), 'ICC2514-1': array([-0.82514957, -0.66435262]), 'ICS2613-1': array([0.15546345, 0.45907509]), 'ICS1113-2': array([-0.11758154,  0.27125513]), 'ICS1513-1': array([0.96494437, 0.18503373]), 'ICS1513-2': array([-0.99541058, -0.04550698]), 'ICS2523-3': array([-0.13781846,  0.26005719]), 'ING1004-9': array([-0.01506037, -0.95517029]), 'IIQ2723-1': array([-0.83329312, -0.56689073]), 'ING1004-2': array([ 0.04094779, -0.99517207]), 'ICM2022-1': array([-0.07492724, -0.04334159]), 'ING1004-10': array([ 0.25606367, -0.90934095]), 'IEE2433-1': array([0.01438937, 0.96892555]), 'IIC3143-1': array([-0.19027458, -0.1113931 ]), 'ICC3214-1': array([-0.86178034, -0.51141656]), 'ICS3213-1': array([ 0.72718264, -0.16725452]), 'IEE3433-1': array([ 0.83135636, -0.59420799]), 'ING2030-1': array([-0.34071807,  0.41644714]), 'ING2030-2': array([-0.33527867,  0.41930854]), 'ING2030-3': array([-0.34490849,  0.40868548]), 'ING2030-4': array([-0.33664494,  0.41058261]), 'ING2030-5': array([-0.32709461,  0.41080343]), 'ING2030-6': array([-0.34521866,  0.40267737]), 'ING2030-7': array([-0.339285  ,  0.40035479]), 'ING2030-8': array([-0.33033003,  0.405569  ]), 'ING2030-9': array([-0.34746329,  0.41648999]), 'ING101G-1': array([-0.32897397,  0.41855199]), 'IMM3800-1': array([-0.33434671,  0.39950721]), 'IIC2115-1': array([0.67354255, 0.70413328]), 'IDI2004-1': array([0.67016599, 0.68986796]), 'ICS2031-1': array([-0.8487027 , -0.15033738]), 'IIC2213-1': array([-0.25790627, -0.07355248]), 'ICC3323-1': array([-0.26449235, -0.08245665]), 'IIC3745-1': array([-0.22538344, -0.08241363]), 'ICT3623-1': array([-0.25961783, -0.06532767]), 'IEE3732-1': array([-0.27519151, -0.06697678]), 'ICS3012-1': array([-0.26626682, -0.07363881]), 'ICT3113-2': array([ 0.01084811, -0.22597625]), 'ICT3113-1': array([ 0.00153254, -0.22635275]), 'ICT3113-3': array([ 0.01631493, -0.22055271]), 'IND3120-1': array([-0.0916817 , -0.50568069]), 'IND3210-1': array([-0.10269623, -0.50624547]), 'IND3300-1': array([-0.09060728, -0.51835228]), 'IND3730-1': array([-0.087799 , -0.5110075]), 'IAC3275-1': array([-0.09266644, -0.47810964]), 'IND3760-1': array([-0.09683174, -0.50167262]), 'IND3860-1': array([-0.08304732, -0.50911974]), 'IAC3290-1': array([-0.09659177, -0.51504206]), 'IND3310-2': array([-0.1029348 , -0.51353853]), 'IIC3757-1': array([-0.81916482,  0.38838969]), 'IIC3800-1': array([0.81156155, 0.20834329]), 'ICM2982-1': array([-0.68453006,  0.32041777]), 'ICS3252-1': array([-0.71411697,  0.33492038]), 'IEN3520-1': array([0.16533682, 0.70690894]), 'IEN3630-1': array([0.18211782, 0.70545729]), 'IEN3120-2': array([0.16898673, 0.68609835]), 'IEN3240-2': array([0.17391231, 0.71062016]), 'IIC2233-2': array([ 0.00506957, -0.20584523]), 'IIC2233-1': array([ 0.00455949, -0.21035983]), 'IIC2233-3': array([ 1.73410774e-04, -2.14074542e-01]), 'IIC2233-4': array([-0.00050794, -0.20853404]), 'IMM2083-1': array([ 0.02165073, -0.21431563]), 'IMM2033-1': array([0.19532459, 0.88898717]), 'ICH3350-1': array([0.19667641, 0.90439923]), 'ICH2574-1': array([0.05203992, 0.08068341]), 'ICM2503-1': array([0.07035353, 0.06982685]), 'ICM2503-2': array([0.0616623 , 0.07417379]), 'ICM2503-3': array([0.07554136, 0.07117216]), 'ICM2503-4': array([0.07060605, 0.07628895]), 'ICM2503-5': array([0.06704143, 0.08161599]), 'IIQ3402-1': array([0.06490381, 0.06950495]), 'IND3110-1': array([0.07074131, 0.08575876]), 'IND3200-1': array([0.07627897, 0.0844314 ]), 'IND3740-1': array([0.06331363, 0.0855148 ]), 'ICH3532-1': array([0.04992497, 0.07079108]), 'IND3725-1': array([0.07728296, 0.07786964]), 'IND3910-1': array([0.0618396 , 0.09731408]), 'ICC2944-1': array([0.04349488, 0.18919641]), 'IAC3260-1': array([0.03926552, 0.1940888 ]), 'IND3100-1': array([0.04045744, 0.16147337]), 'IND3420-1': array([0.04525075, 0.18305309]), 'IND3720-1': array([0.0353045 , 0.17951777]), 'IND3450-1': array([0.03279392, 0.19400585]), 'IAC3280-1': array([0.02924507, 0.18253204]), 'IMM3313-1': array([0.02749519, 0.18919661]), 'IEG3510-1': array([ 0.01331627, -0.46239932]), 'IEG3660-1': array([ 0.00569704, -0.44560407]), 'IEG4010-1': array([ 2.48574785e-05, -4.53016102e-01]), 'IEG4020-1': array([ 0.00395855, -0.4608325 ]), 'IEG3100-1': array([ 0.02683174, -0.44492677]), 'IEG3110-1': array([ 0.0126722 , -0.45201991]), 'INP3610-1': array([0.37218704, 0.30446492]), 'IEN3220-1': array([0.37221821, 0.28876334]), 'INF3410-1': array([0.37527305, 0.29439496]), 'IEN3140-1': array([0.36136244, 0.30684651]), 'INF3262-1': array([0.36635986, 0.28968644]), 'INF3306-1': array([0.36007794, 0.28870053]), 'IMT3850-1': array([0.35651092, 0.30186844]), 'INF3571-1': array([0.37612683, 0.30018332]), 'INF3823-1': array([0.36721615, 0.30743493]), 'INF3821-1': array([0.36411572, 0.29757539]), 'INF3561-1': array([0.35799856, 0.29559024]), 'IEG3710-1': array([-0.25315509, -0.95195007]), 'ICS2015-1': array([-0.10191683, -0.36096532]), 'IIC3703-1': array([-0.11482455, -0.36420689]), 'IAC3200-1': array([-0.09929037, -0.36673193]), 'IAC3270-1': array([-0.09745929, -0.39319851]), 'ICE3653-1': array([-0.11686425, -0.37370588]), 'IAC3911-1': array([-0.10752205, -0.37042768]), 'IAC3921-1': array([-0.10888292, -0.36149208]), 'ING3820-1': array([-0.08547095,  0.04610759]), 'ING3821-1': array([-0.08191111,  0.04793512]), 'W0_MS1 - Macrosección 1': array([-0.76134749,  0.20299664]), 'H6_MS1 - Macrosección 1': array([-0.05488524, -0.0447106 ]), 'H7_MS1 - Macrosección 1': array([-0.05257578, -0.05355535]), 'B6_MS1 - Macrosección 1': array([-0.13941456,  0.32761916]), 'C8_MS1 - Macrosección 1': array([ 0.69859701, -0.14141662]), 'B8_MS1 - Macrosección 1': array([-0.09800127,  0.84430772]), 'T1_MS1 - Macrosección 1': array([-0.16884474,  0.03306926]), 'J7_MS1 - Macrosección 1': array([0.78189327, 0.07527244]), 'B0_MS1 - Macrosección 1': array([ 0.10126295, -0.09165786]), 'B1_MS1 - Macrosección 1': array([-0.15473816,  0.37701676]), 'I6_MS1 - Macrosección 1': array([-0.70201832,  0.18383156])}",
     "output_type": "error",
     "traceback": [
      "\u001b[1;31m---------------------------------------------------------------------------\u001b[0m",
      "\u001b[1;31mValueError\u001b[0m                                Traceback (most recent call last)",
      "Cell \u001b[1;32mIn[11], line 1\u001b[0m\n\u001b[1;32m----> 1\u001b[0m \u001b[43mdibujar_grafo\u001b[49m\u001b[43m(\u001b[49m\u001b[38;5;124;43m\"\u001b[39;49m\u001b[38;5;124;43mGramo de ramos con macrosecciones y prerrequisitos\u001b[39;49m\u001b[38;5;124;43m\"\u001b[39;49m\u001b[43m,\u001b[49m\u001b[43m \u001b[49m\u001b[43mgrafo_modulos\u001b[49m\u001b[43m)\u001b[49m\n",
      "File \u001b[1;32m~\\Desktop\\Universidad\\5TO SEMESTRE\\ICS2985_iPre\\src\\grafos\\drawing.py:56\u001b[0m, in \u001b[0;36mdibujar_grafo\u001b[1;34m(title, grafo)\u001b[0m\n\u001b[0;32m     54\u001b[0m plot\u001b[38;5;241m.\u001b[39mwidth \u001b[38;5;241m=\u001b[39m \u001b[38;5;241m1900\u001b[39m\n\u001b[0;32m     55\u001b[0m plot\u001b[38;5;241m.\u001b[39mheight \u001b[38;5;241m=\u001b[39m \u001b[38;5;241m900\u001b[39m\n\u001b[1;32m---> 56\u001b[0m network_graph \u001b[38;5;241m=\u001b[39m \u001b[43mfrom_networkx\u001b[49m\u001b[43m(\u001b[49m\u001b[43mgrafo\u001b[49m\u001b[43m,\u001b[49m\u001b[43m \u001b[49m\u001b[43mnx\u001b[49m\u001b[38;5;241;43m.\u001b[39;49m\u001b[43mspring_layout\u001b[49m\u001b[43m(\u001b[49m\u001b[43mgrafo\u001b[49m\u001b[43m)\u001b[49m\u001b[43m,\u001b[49m\u001b[43m \u001b[49m\u001b[43mscale\u001b[49m\u001b[38;5;241;43m=\u001b[39;49m\u001b[38;5;241;43m10\u001b[39;49m\u001b[43m,\u001b[49m\u001b[43m \u001b[49m\u001b[43mcenter\u001b[49m\u001b[38;5;241;43m=\u001b[39;49m\u001b[43m(\u001b[49m\u001b[38;5;241;43m0\u001b[39;49m\u001b[43m,\u001b[49m\u001b[43m \u001b[49m\u001b[38;5;241;43m0\u001b[39;49m\u001b[43m)\u001b[49m\u001b[43m)\u001b[49m\n\u001b[0;32m     58\u001b[0m \u001b[38;5;66;03m# Set node sizes and colors according to node degree (color as category from attribute)\u001b[39;00m\n\u001b[0;32m     60\u001b[0m minimum_value_color \u001b[38;5;241m=\u001b[39m \u001b[38;5;28mmin\u001b[39m(\n\u001b[0;32m     61\u001b[0m     network_graph\u001b[38;5;241m.\u001b[39mnode_renderer\u001b[38;5;241m.\u001b[39mdata_source\u001b[38;5;241m.\u001b[39mdata[color_by_this_attribute])\n",
      "File \u001b[1;32m~\\AppData\\Local\\Programs\\Python\\Python310\\lib\\site-packages\\bokeh\\plotting\\graph.py:123\u001b[0m, in \u001b[0;36mfrom_networkx\u001b[1;34m(graph, layout_function, **kwargs)\u001b[0m\n\u001b[0;32m    119\u001b[0m     \u001b[38;5;28;01mif\u001b[39;00m \u001b[38;5;28mset\u001b[39m(node_keys) \u001b[38;5;241m!=\u001b[39m \u001b[38;5;28mset\u001b[39m(layout_function\u001b[38;5;241m.\u001b[39mkeys()):\n\u001b[0;32m    120\u001b[0m         warn(\u001b[38;5;124m\"\u001b[39m\u001b[38;5;124mNode keys in \u001b[39m\u001b[38;5;124m'\u001b[39m\u001b[38;5;124mlayout_function\u001b[39m\u001b[38;5;124m'\u001b[39m\u001b[38;5;124m don\u001b[39m\u001b[38;5;124m'\u001b[39m\u001b[38;5;124mt match node keys in the graph. \u001b[39m\u001b[38;5;124m\"\u001b[39m\n\u001b[0;32m    121\u001b[0m              \u001b[38;5;124m\"\u001b[39m\u001b[38;5;124mThese nodes may not be displayed correctly.\u001b[39m\u001b[38;5;124m\"\u001b[39m)\n\u001b[1;32m--> 123\u001b[0m graph_renderer\u001b[38;5;241m.\u001b[39mlayout_provider \u001b[38;5;241m=\u001b[39m \u001b[43mStaticLayoutProvider\u001b[49m\u001b[43m(\u001b[49m\u001b[43mgraph_layout\u001b[49m\u001b[38;5;241;43m=\u001b[39;49m\u001b[43mgraph_layout\u001b[49m\u001b[43m)\u001b[49m\n\u001b[0;32m    125\u001b[0m \u001b[38;5;28;01mreturn\u001b[39;00m graph_renderer\n",
      "File \u001b[1;32m~\\AppData\\Local\\Programs\\Python\\Python310\\lib\\site-packages\\bokeh\\models\\graphs.py:83\u001b[0m, in \u001b[0;36mStaticLayoutProvider.__init__\u001b[1;34m(self, *args, **kwargs)\u001b[0m\n\u001b[0;32m     82\u001b[0m \u001b[38;5;28;01mdef\u001b[39;00m \u001b[38;5;21m__init__\u001b[39m(\u001b[38;5;28mself\u001b[39m, \u001b[38;5;241m*\u001b[39margs, \u001b[38;5;241m*\u001b[39m\u001b[38;5;241m*\u001b[39mkwargs) \u001b[38;5;241m-\u001b[39m\u001b[38;5;241m>\u001b[39m \u001b[38;5;28;01mNone\u001b[39;00m:\n\u001b[1;32m---> 83\u001b[0m     \u001b[38;5;28msuper\u001b[39m()\u001b[38;5;241m.\u001b[39m\u001b[38;5;21m__init__\u001b[39m(\u001b[38;5;241m*\u001b[39margs, \u001b[38;5;241m*\u001b[39m\u001b[38;5;241m*\u001b[39mkwargs)\n",
      "File \u001b[1;32m~\\AppData\\Local\\Programs\\Python\\Python310\\lib\\site-packages\\bokeh\\models\\graphs.py:66\u001b[0m, in \u001b[0;36mLayoutProvider.__init__\u001b[1;34m(self, *args, **kwargs)\u001b[0m\n\u001b[0;32m     65\u001b[0m \u001b[38;5;28;01mdef\u001b[39;00m \u001b[38;5;21m__init__\u001b[39m(\u001b[38;5;28mself\u001b[39m, \u001b[38;5;241m*\u001b[39margs, \u001b[38;5;241m*\u001b[39m\u001b[38;5;241m*\u001b[39mkwargs) \u001b[38;5;241m-\u001b[39m\u001b[38;5;241m>\u001b[39m \u001b[38;5;28;01mNone\u001b[39;00m:\n\u001b[1;32m---> 66\u001b[0m     \u001b[38;5;28msuper\u001b[39m()\u001b[38;5;241m.\u001b[39m\u001b[38;5;21m__init__\u001b[39m(\u001b[38;5;241m*\u001b[39margs, \u001b[38;5;241m*\u001b[39m\u001b[38;5;241m*\u001b[39mkwargs)\n",
      "File \u001b[1;32m~\\AppData\\Local\\Programs\\Python\\Python310\\lib\\site-packages\\bokeh\\model\\model.py:110\u001b[0m, in \u001b[0;36mModel.__init__\u001b[1;34m(self, *args, **kwargs)\u001b[0m\n\u001b[0;32m    107\u001b[0m \u001b[38;5;28;01mif\u001b[39;00m \u001b[38;5;124m\"\u001b[39m\u001b[38;5;124mid\u001b[39m\u001b[38;5;124m\"\u001b[39m \u001b[38;5;129;01min\u001b[39;00m kwargs:\n\u001b[0;32m    108\u001b[0m     \u001b[38;5;28;01mraise\u001b[39;00m \u001b[38;5;167;01mValueError\u001b[39;00m(\u001b[38;5;124m\"\u001b[39m\u001b[38;5;124minitializing \u001b[39m\u001b[38;5;124m'\u001b[39m\u001b[38;5;124mid\u001b[39m\u001b[38;5;124m'\u001b[39m\u001b[38;5;124m is not allowed\u001b[39m\u001b[38;5;124m\"\u001b[39m)\n\u001b[1;32m--> 110\u001b[0m \u001b[38;5;28msuper\u001b[39m()\u001b[38;5;241m.\u001b[39m\u001b[38;5;21m__init__\u001b[39m(\u001b[38;5;241m*\u001b[39m\u001b[38;5;241m*\u001b[39mkwargs)\n\u001b[0;32m    111\u001b[0m default_theme\u001b[38;5;241m.\u001b[39mapply_to_model(\u001b[38;5;28mself\u001b[39m)\n",
      "File \u001b[1;32m~\\AppData\\Local\\Programs\\Python\\Python310\\lib\\site-packages\\bokeh\\core\\has_props.py:298\u001b[0m, in \u001b[0;36mHasProps.__init__\u001b[1;34m(self, **properties)\u001b[0m\n\u001b[0;32m    296\u001b[0m     \u001b[38;5;28;01mif\u001b[39;00m value \u001b[38;5;129;01mis\u001b[39;00m Undefined \u001b[38;5;129;01mor\u001b[39;00m value \u001b[38;5;129;01mis\u001b[39;00m Intrinsic:\n\u001b[0;32m    297\u001b[0m         \u001b[38;5;28;01mcontinue\u001b[39;00m\n\u001b[1;32m--> 298\u001b[0m     \u001b[38;5;28;43msetattr\u001b[39;49m\u001b[43m(\u001b[49m\u001b[38;5;28;43mself\u001b[39;49m\u001b[43m,\u001b[49m\u001b[43m \u001b[49m\u001b[43mname\u001b[49m\u001b[43m,\u001b[49m\u001b[43m \u001b[49m\u001b[43mvalue\u001b[49m\u001b[43m)\u001b[49m\n\u001b[0;32m    300\u001b[0m \u001b[38;5;28;01mfor\u001b[39;00m name \u001b[38;5;129;01min\u001b[39;00m \u001b[38;5;28mself\u001b[39m\u001b[38;5;241m.\u001b[39mproperties() \u001b[38;5;241m-\u001b[39m \u001b[38;5;28mset\u001b[39m(properties\u001b[38;5;241m.\u001b[39mkeys()):\n\u001b[0;32m    301\u001b[0m     desc \u001b[38;5;241m=\u001b[39m \u001b[38;5;28mself\u001b[39m\u001b[38;5;241m.\u001b[39mlookup(name)\n",
      "File \u001b[1;32m~\\AppData\\Local\\Programs\\Python\\Python310\\lib\\site-packages\\bokeh\\core\\has_props.py:327\u001b[0m, in \u001b[0;36mHasProps.__setattr__\u001b[1;34m(self, name, value)\u001b[0m\n\u001b[0;32m    325\u001b[0m properties \u001b[38;5;241m=\u001b[39m \u001b[38;5;28mself\u001b[39m\u001b[38;5;241m.\u001b[39mproperties(_with_props\u001b[38;5;241m=\u001b[39m\u001b[38;5;28;01mTrue\u001b[39;00m)\n\u001b[0;32m    326\u001b[0m \u001b[38;5;28;01mif\u001b[39;00m name \u001b[38;5;129;01min\u001b[39;00m properties:\n\u001b[1;32m--> 327\u001b[0m     \u001b[38;5;28;01mreturn\u001b[39;00m \u001b[38;5;28;43msuper\u001b[39;49m\u001b[43m(\u001b[49m\u001b[43m)\u001b[49m\u001b[38;5;241;43m.\u001b[39;49m\u001b[38;5;21;43m__setattr__\u001b[39;49m\u001b[43m(\u001b[49m\u001b[43mname\u001b[49m\u001b[43m,\u001b[49m\u001b[43m \u001b[49m\u001b[43mvalue\u001b[49m\u001b[43m)\u001b[49m\n\u001b[0;32m    329\u001b[0m descriptor \u001b[38;5;241m=\u001b[39m \u001b[38;5;28mgetattr\u001b[39m(\u001b[38;5;28mself\u001b[39m\u001b[38;5;241m.\u001b[39m\u001b[38;5;18m__class__\u001b[39m, name, \u001b[38;5;28;01mNone\u001b[39;00m)\n\u001b[0;32m    330\u001b[0m \u001b[38;5;28;01mif\u001b[39;00m \u001b[38;5;28misinstance\u001b[39m(descriptor, \u001b[38;5;28mproperty\u001b[39m): \u001b[38;5;66;03m# Python property\u001b[39;00m\n",
      "File \u001b[1;32m~\\AppData\\Local\\Programs\\Python\\Python310\\lib\\site-packages\\bokeh\\core\\property\\descriptors.py:332\u001b[0m, in \u001b[0;36mPropertyDescriptor.__set__\u001b[1;34m(self, obj, value, setter)\u001b[0m\n\u001b[0;32m    329\u001b[0m     class_name \u001b[38;5;241m=\u001b[39m obj\u001b[38;5;241m.\u001b[39m\u001b[38;5;18m__class__\u001b[39m\u001b[38;5;241m.\u001b[39m\u001b[38;5;18m__name__\u001b[39m\n\u001b[0;32m    330\u001b[0m     \u001b[38;5;28;01mraise\u001b[39;00m \u001b[38;5;167;01mRuntimeError\u001b[39;00m(\u001b[38;5;124mf\u001b[39m\u001b[38;5;124m\"\u001b[39m\u001b[38;5;132;01m{\u001b[39;00mclass_name\u001b[38;5;132;01m}\u001b[39;00m\u001b[38;5;124m.\u001b[39m\u001b[38;5;132;01m{\u001b[39;00m\u001b[38;5;28mself\u001b[39m\u001b[38;5;241m.\u001b[39mname\u001b[38;5;132;01m}\u001b[39;00m\u001b[38;5;124m is a readonly property\u001b[39m\u001b[38;5;124m\"\u001b[39m)\n\u001b[1;32m--> 332\u001b[0m value \u001b[38;5;241m=\u001b[39m \u001b[38;5;28;43mself\u001b[39;49m\u001b[38;5;241;43m.\u001b[39;49m\u001b[43mproperty\u001b[49m\u001b[38;5;241;43m.\u001b[39;49m\u001b[43mprepare_value\u001b[49m\u001b[43m(\u001b[49m\u001b[43mobj\u001b[49m\u001b[43m,\u001b[49m\u001b[43m \u001b[49m\u001b[38;5;28;43mself\u001b[39;49m\u001b[38;5;241;43m.\u001b[39;49m\u001b[43mname\u001b[49m\u001b[43m,\u001b[49m\u001b[43m \u001b[49m\u001b[43mvalue\u001b[49m\u001b[43m)\u001b[49m\n\u001b[0;32m    333\u001b[0m old \u001b[38;5;241m=\u001b[39m \u001b[38;5;28mself\u001b[39m\u001b[38;5;241m.\u001b[39m_get(obj)\n\u001b[0;32m    334\u001b[0m \u001b[38;5;28mself\u001b[39m\u001b[38;5;241m.\u001b[39m_set(obj, old, value, setter\u001b[38;5;241m=\u001b[39msetter)\n",
      "File \u001b[1;32m~\\AppData\\Local\\Programs\\Python\\Python310\\lib\\site-packages\\bokeh\\core\\property\\bases.py:365\u001b[0m, in \u001b[0;36mProperty.prepare_value\u001b[1;34m(self, owner, name, value, hint)\u001b[0m\n\u001b[0;32m    363\u001b[0m \u001b[38;5;28;01melse\u001b[39;00m:\n\u001b[0;32m    364\u001b[0m     obj_repr \u001b[38;5;241m=\u001b[39m owner \u001b[38;5;28;01mif\u001b[39;00m \u001b[38;5;28misinstance\u001b[39m(owner, HasProps) \u001b[38;5;28;01melse\u001b[39;00m owner\u001b[38;5;241m.\u001b[39m\u001b[38;5;18m__name__\u001b[39m\n\u001b[1;32m--> 365\u001b[0m     \u001b[38;5;28;01mraise\u001b[39;00m \u001b[38;5;167;01mValueError\u001b[39;00m(\u001b[38;5;124mf\u001b[39m\u001b[38;5;124m\"\u001b[39m\u001b[38;5;124mfailed to validate \u001b[39m\u001b[38;5;132;01m{\u001b[39;00mobj_repr\u001b[38;5;132;01m}\u001b[39;00m\u001b[38;5;124m.\u001b[39m\u001b[38;5;132;01m{\u001b[39;00mname\u001b[38;5;132;01m}\u001b[39;00m\u001b[38;5;124m: \u001b[39m\u001b[38;5;132;01m{\u001b[39;00merror\u001b[38;5;132;01m}\u001b[39;00m\u001b[38;5;124m\"\u001b[39m)\n\u001b[0;32m    367\u001b[0m \u001b[38;5;28;01mif\u001b[39;00m \u001b[38;5;28misinstance\u001b[39m(owner, HasProps):\n\u001b[0;32m    368\u001b[0m     obj \u001b[38;5;241m=\u001b[39m owner\n",
      "\u001b[1;31mValueError\u001b[0m: failed to validate StaticLayoutProvider(id='p1083', ...).graph_layout: expected an element of Dict(Int, Seq(Any)), got {'IEE0020-1': array([-0.26700983, -0.73175523]), 'ICH0020-1': array([-0.27930742, -0.73304084]), 'ING0901-1': array([-0.24800613, -0.73492377]), 'IIC1062-1': array([-0.73022236, -0.70151967]), 'IIC2513-1': array([-0.06673282, -0.21738209]), 'ICC2204-1': array([-0.79314536,  0.21242572]), 'ICC2312-1': array([ 0.90692795, -0.43027491]), 'ICE2633-1': array([-0.60658597, -0.82810785]), 'ICE2703-1': array([ 0.09097898, -0.18378465]), 'ICH2204-1': array([0.00027098, 0.08970451]), 'ICH2304-1': array([0.10289363, 0.07059752]), 'ICM2213-1': array([-0.19105887,  0.05222423]), 'ICM2333-1': array([0.73598199, 0.55911541]), 'IMM2013-1': array([-0.36269344,  0.8721699 ]), 'IMM2043-1': array([ 0.11828691, -0.11286003]), 'IIQ2303-1': array([ 0.86398987, -0.16402328]), 'IEE2113-1': array([-0.96027142,  0.00343719]), 'ICS2123-1': array([ 0.70765069, -0.15842185]), 'ICS1113-4': array([-0.12333075,  0.27123033]), 'IBM2020-1': array([-0.1898651,  0.8693915]), 'ICE2020-1': array([ 0.46474267, -0.80876234]), 'IIC2513-2': array([-0.05383099, -0.21935205]), 'ING0907-1': array([ 0.8653407 , -0.34365118]), 'IIC3724-1': array([-0.59970674,  0.80582671]), 'IIQ3683-1': array([0.91450034, 0.30832237]), 'IMM3403-1': array([-0.88317321, -0.5834989 ]), 'ICS3313-1': array([-0.42041728,  0.76428043]), 'ICS3313-2': array([ 0.31921306, -0.90183332]), 'ICS3723-1': array([ 0.69133445, -0.17198239]), 'ICT3283-1': array([ 0.57863471, -0.36440088]), 'IEE3724-1': array([-0.64401966,  0.75383944]), 'ICH3374-1': array([0.80824867, 0.63127474]), 'IEE3864-1': array([-0.07537543, -0.94721074]), 'ICC3312-1': array([-0.76542984,  0.44440044]), 'ICS3413-3': array([0.13653324, 0.44907739]), 'ICE3443-1': array([0.9368015 , 0.24171962]), 'IBM3201-1': array([ 0.78894189, -0.38789636]), 'ICS3151-1': array([-0.99714279,  0.17458221]), 'ICM3235-1': array([-0.16406791,  0.05022273]), 'IMI3400-1': array([-0.10488973,  0.91484927]), 'IMI3500-1': array([-0.26160677, -0.74413992]), 'IMI3600-1': array([-0.8578495,  0.4776564]), 'IMI3750-1': array([-0.24281346, -0.66292665]), 'IEG4970-1': array([ 0.15147689, -0.46432377]), 'IEG3220-1': array([ 0.15538887, -0.45354002]), 'IEG3500-1': array([ 0.1251982, -0.4452116]), 'ICC2290-1': array([-0.11821124, -0.07831392]), 'IEE2224-1': array([-0.11143115, -0.08089558]), 'IIC2154-3': array([-0.12113832, -0.10771341]), 'IIC2154-4': array([-0.1246112 , -0.10687768]), 'ICM2026-1': array([-0.10159909, -0.04609933]), 'IEE3674-1': array([-0.11733717, -0.06201558]), 'IIC1005-1': array([ 0.79034446, -0.65996141]), 'IIC2713-1': array([-0.15430704, -0.24013431]), 'ICC2304-1': array([-0.72501579,  0.19189679]), 'ICE2623-1': array([-0.91387881,  0.42526148]), 'ICH1005-1': array([-0.65560411,  0.68183928]), 'ICH2304-2': array([0.10107824, 0.05983923]), 'ICT2904-1': array([-0.00672259,  0.33809595]), 'IEE2713-1': array([-0.67404483, -0.77996051]), 'ICS1113-1': array([-0.11490511,  0.26723094]), 'ICS2023-1': array([ 0.62725337, -0.8080811 ]), 'ICS2123-2': array([ 0.70174959, -0.16348929]), 'IIQ1003-2': array([-0.88555616, -0.44221809]), 'IIC2713-2': array([-0.13457641, -0.25334744]), 'ICS2122-1': array([-0.98137032,  0.1098449 ]), 'IIC1103-6': array([0.36617047, 0.90930182]), 'ICS2122-2': array([-0.12927116, -0.9233594 ]), 'IIC1103-10': array([-0.16867955,  0.34643662]), 'IMT2118-1': array([ 0.86524923, -0.46320546]), 'IIC2713-3': array([-0.14701775, -0.25007096]), 'IIC1103-12': array([ 0.97715325, -0.1022143 ]), 'IIC2026-1': array([0.83331703, 0.35060107]), 'ICE2643-1': array([0.25957604, 0.9113801 ]), 'IIC3253-1': array([-0.48575596, -0.57711293]), 'IMM3323-1': array([ 0.51803769, -0.7948941 ]), 'ICH3600-1': array([0.13110096, 0.06498559]), 'ICM3243-1': array([-1.        ,  0.04101952]), 'ICS3413-2': array([0.14395519, 0.44625459]), 'IIQ3733-1': array([-0.55338209,  0.79564017]), 'ICT3984-2': array([ 0.59282954, -0.36031286]), 'ICS3213-3': array([ 0.72086794, -0.175938  ]), 'ICT3464-1': array([-0.14740534,  0.30930737]), 'IEE3202-1': array([-0.69474878, -0.5769931 ]), 'ICT3115-1': array([ 0.9626974 , -0.03212146]), 'IBM3810-1': array([-0.69816196,  0.66286211]), 'IMM1003-1': array([-0.11894903,  0.143474  ]), 'ICM1001-1': array([-0.14195247,  0.11207053]), 'IIQ2013-1': array([-0.10374297,  0.13446202]), 'IIQ2013-3': array([-0.10026631,  0.12196769]), 'IIQ2013-2': array([-0.11164507,  0.13917064]), 'ICC2234-1': array([-0.13493189,  0.14118913]), 'ICM2223-1': array([-0.12381328,  0.05766257]), 'ICS2523-4': array([-0.12102771,  0.20170716]), 'IIQ2003-1': array([-0.12604027,  0.10454392]), 'IIC1001-1': array([-0.13792695,  0.13371923]), 'ICC3124-1': array([-0.13558134,  0.10606022]), 'ICE3233-1': array([-0.14423886,  0.11984951]), 'ING3820-2': array([-0.11501783,  0.11765697]), 'ING3821-2': array([-0.11746293,  0.11680861]), 'IDT3020-1': array([-0.12021012,  0.12530196]), 'ICH3222-1': array([-0.07338847,  0.1088859 ]), 'ICE3693-1': array([-0.14455934,  0.12854333]), 'IMT3830-1': array([-0.13447377,  0.1226419 ]), 'IEE3154-1': array([-0.12696166,  0.14030812]), 'IEG3520-1': array([ 0.10689729, -0.49275977]), 'IEG3200-1': array([ 0.12435506, -0.52404413]), 'IEN3660-1': array([-0.38610441,  0.93429286]), 'IEN3510-1': array([0.68872011, 0.36529379]), 'IEN3620-1': array([0.67211833, 0.3630174 ]), 'IEN3140-2': array([0.68330664, 0.37892506]), 'IEN3210-2': array([0.69535044, 0.37616923]), 'INF4970-1': array([0.44413853, 0.64210898]), 'IEN3210-1': array([0.43283282, 0.63911108]), 'IEN4970-1': array([0.44447129, 0.63041092]), 'INF4970-2': array([0.4275898 , 0.61851983]), 'ING1024-1': array([ 0.92013029, -0.1662736 ]), 'ICT2213-1': array([-0.07652894,  0.29415226]), 'IMT2111-1': array([0.88392557, 0.43204767]), 'ING102G-1': array([-0.73518771, -0.75459443]), 'ICC3264-1': array([-0.59036619, -0.73851194]), 'ICS3762-1': array([-0.14153   ,  0.23590825]), 'IEE3373-1': array([ 0.74846084, -0.54097938]), 'ICS3013-5': array([-0.90844761, -0.26869385]), 'ICS3013-7': array([-0.91286251,  0.30120054]), 'ICS3013-2': array([0.88735497, 0.47111509]), 'IIQ3643-1': array([-0.82647294, -0.41169611]), 'ICM3251-1': array([-0.16666075,  0.05988266]), 'IMT3840-1': array([-0.23377983,  0.89684806]), 'IBM3002-1': array([-0.906868  , -0.47356765]), 'ICS3811-1': array([-0.13297281,  0.23631103]), 'IIC2154-1': array([-0.13946284, -0.13777662]), 'IIC2154-2': array([-0.14209041, -0.13461096]), 'ICT3544-1': array([-0.1669517 , -0.14565361]), 'ICM2343-1': array([-0.19233401, -0.16289259]), 'IIC2173-2': array([-0.18617951, -0.17137002]), 'IIC3103-1': array([-0.15309352, -0.14649313]), 'IEE2913-1': array([0.05564494, 0.38657101]), 'ICS2613-3': array([0.11067454, 0.42382044]), 'ICS3502-1': array([0.07242659, 0.41424074]), 'ICS3313-3': array([0.05928207, 0.42225292]), 'ICS2121-1': array([ 0.72393203, -0.12459381]), 'IMM2003-1': array([ 0.61857752, -0.85025619]), 'IFI1001-1': array([-0.36088273, -0.91614118]), 'IIC2113-1': array([ 0.73701927, -0.66048157]), 'IIC100G-1': array([0.44793179, 0.83294394]), 'ICE2028-1': array([0.8614128 , 0.15296896]), 'ICS3582-1': array([-0.09467694,  0.8118329 ]), 'ICS3805-1': array([ 0.73653776, -0.17893356]), 'ICM3762-1': array([-0.02018092, -0.04925096]), 'IBM3101-1': array([-0.79973539,  0.61593482]), 'IMT3800-1': array([0.21931045, 0.95860104]), 'IIC2143-1': array([-0.16396337, -0.11143457]), 'IIQ2663-1': array([-0.44946561,  0.80715272]), 'IMT1001-1': array([-0.1519946 ,  0.36610444]), 'IBM1005-1': array([ 0.86201327, -0.25894423]), 'ICE2313-1': array([-0.59585093, -0.7849684 ]), 'ICH1104-1': array([-0.05015568,  0.01631915]), 'ICH2124-1': array([-0.02881539,  0.05618432]), 'ICM2413-1': array([-0.46186732, -0.92253765]), 'ICT2233-1': array([-0.12510379,  0.29267895]), 'IEE2103-1': array([-0.31545211, -0.06025653]), 'IEE2413-1': array([-0.12251081,  0.0394378 ]), 'IEE2613-1': array([-0.10761837,  0.00228164]), 'ICS2523-2': array([-0.1264061 ,  0.25406868]), 'ICS2813-2': array([0.89594245, 0.37862164]), 'ICH1104-3': array([-0.05482107,  0.01173   ]), 'ICM2003-1': array([-0.52601095, -0.83916179]), 'IIQ2363-1': array([ 0.9245278 , -0.08296014]), 'ICM2028-1': array([-0.78469828, -0.67879962]), 'IMM2073-1': array([0.67811333, 0.75869243]), 'ICE1514-1': array([-0.46502328, -0.83436521]), 'IIC2143-2': array([-0.16239557, -0.10746769]), 'IIC1103-11': array([-0.1723452 ,  0.35565628]), 'IBM2012-1': array([0.90106645, 0.05923273]), 'IMT2117-1': array([0.98542073, 0.01205125]), 'ICS2563-2': array([-0.80314504, -0.49495074]), 'ICE3413-1': array([-0.97242758,  0.27623489]), 'ICT3273-1': array([ 0.51987231, -0.58172868]), 'IEE3764-1': array([-0.18435569, -0.95673252]), 'IIQ3602-1': array([-0.34555278,  0.91756807]), 'IMT3130-1': array([0.44955052, 0.90034149]), 'ING3810-1': array([-0.57864961, -0.87312624]), 'ING3810-2': array([ 0.53867809, -0.8801026 ]), 'ING3810-3': array([-0.27793948,  0.92467428]), 'ICT3435-1': array([-0.07141112,  0.3319556 ]), 'IIC3284-1': array([-0.81325494,  0.52324859]), 'IEN3110-1': array([-0.96775174,  0.21114609]), 'IND3110-2': array([-0.05463408, -0.46575393]), 'IND3121-2': array([-0.06549817, -0.46801557]), 'IAC3901-1': array([-0.07026326, -0.43584892]), 'IIC1062-2': array([-0.08403958,  0.98862162]), 'IMM2213-1': array([ 0.67854104, -0.69656839]), 'ICE2114-1': array([0.73973284, 0.31292178]), 'ICM2313-1': array([-0.38498933, -0.8450119 ]), 'ICS2613-2': array([0.14713249, 0.47043077]), 'ICT2303-1': array([ 0.39253072, -0.81706721]), 'IEE2343-1': array([0.01332165, 0.93466322]), 'IEE2513-1': array([ 0.7335629 , -0.73049985]), 'IIQ2023-2': array([-0.62716994, -0.67381798]), 'IIQ2023-3': array([ 0.70485113, -0.49020159]), 'IIQ2023-1': array([-0.44674199, -0.89333325]), 'ICH2314-1': array([-0.32424596, -0.97241733]), 'ICE2640-1': array([-0.30179257, -0.8965013 ]), 'ICC2913-1': array([-0.15297062,  0.95359046]), 'ICS2123-3': array([ 0.70797751, -0.16655337]), 'ICS113H-1': array([ 0.39439781, -0.9129487 ]), 'IEE2753-1': array([0.59970517, 0.74080767]), 'IIC2613-1': array([ 0.00755704, -0.23832733]), 'IIC1103-7': array([-0.1398733 ,  0.36686944]), 'IIC1103-8': array([-0.12856919,  0.36849457]), 'IIC2764-1': array([-0.10898399, -0.32820866]), 'ICM2203-1': array([ 0.73363724, -0.76440284]), 'ICE2006-1': array([-0.91715533, -0.40184806]), 'IIC2173-1': array([-0.59854598,  0.7300659 ]), 'IIC3113-1': array([-0.43834019,  0.86127825]), 'ICT3523-1': array([0.30128428, 0.91545396]), 'ICC3914-1': array([ 0.60817698, -0.73565106]), 'IMT3500-1': array([ 0.09597424, -0.96542577]), 'ICC3253-1': array([ 0.92308918, -0.32893692]), 'ICH3314-1': array([-0.69969455,  0.72318119]), 'IIC3113-2': array([0.54609062, 0.78612329]), 'ICS3213-4': array([ 0.72322938, -0.1590659 ]), 'IDT3010-1': array([-0.83593326,  0.44331987]), 'IMM3212-1': array([-0.00286536, -0.02731712]), 'IIC1103-2': array([-0.13122401,  0.35815747]), 'IIC1103-4': array([-0.13825349,  0.37542745]), 'IIC1103-3': array([-0.16217256,  0.36136596]), 'IIC1103-1': array([-0.16769259,  0.36790844]), 'IIC1253-1': array([0.80001063, 0.07952108]), 'IIC2343-1': array([ 0.94813133, -0.22458625]), 'IIC2733-1': array([ 0.17690154, -0.93970445]), 'IIQ1001-1': array([ 0.11306848, -0.84866505]), 'ICE2604-1': array([-0.13790268, -0.40337304]), 'ICH2214-1': array([0.60522484, 0.69017317]), 'ICM2803-1': array([ 0.96097983, -0.2563253 ]), 'ICT2223-1': array([ 0.53159109, -0.59651675]), 'IEE2213-1': array([ 0.80835488, -0.44150335]), 'ICS2523-1': array([-0.13358558,  0.25542667]), 'ICS2813-1': array([ 0.93887395, -0.38117755]), 'IMM2521-1': array([-0.28994916,  0.83152044]), 'ICS1113-3': array([-0.12038214,  0.26696626]), 'IEE2123-1': array([-0.77826658, -0.61704253]), 'IIC1253-2': array([0.80666503, 0.06728061]), 'IIQ2673-1': array([-0.96187185, -0.29140517]), 'ICC2105-1': array([0.9478736 , 0.33260398]), 'IIC1103-5': array([-0.15872818,  0.35097641]), 'IIC1103-9': array([-0.14642613,  0.35680587]), 'ICM2813-1': array([ 0.60425496, -0.64941458]), 'IIC2733-2': array([0.95053753, 0.13697954]), 'IIC1253-3': array([0.75105308, 0.06763912]), 'ICM2813-2': array([0.74699474, 0.47191389]), 'IIC2343-2': array([-0.99436347, -0.11108806]), 'IDI2015-1': array([-0.54061008,  0.72516098]), 'ICS2563-1': array([ 0.85810371, -0.50999142]), 'IMM3521-1': array([ 0.82289697, -0.55104638]), 'ICE3124-1': array([0.74621252, 0.29987405]), 'ICS3213-2': array([ 0.71237893, -0.18054533]), 'ICS3413-1': array([0.13251736, 0.45643863]), 'ICT3103-1': array([-0.74282074,  0.65696574]), 'IIQ3343-1': array([0.88734647, 0.23494374]), 'ICH3364-1': array([ 0.19105948, -0.9107334 ]), 'ICE3613-1': array([0.85715156, 0.52825908]), 'IIQ3663-1': array([ 0.56574663, -0.79865561]), 'IEE3610-1': array([-0.14095235, -0.00328833]), 'ICM3553-1': array([-0.08210709, -0.06226741]), 'ICC3543-1': array([-0.68958809,  0.58010033]), 'IMT3150-1': array([0.47606641, 0.79964245]), 'IIC3697-1': array([ 0.01814356, -0.27603511]), 'IEE3234-1': array([-0.75238961, -0.59743091]), 'IBM3104-2': array([-0.73313607, -0.48230744]), 'IIC2133-1': array([-0.50188166,  0.81644781]), 'IIQ2043-1': array([-0.24721727,  0.97320632]), 'IBM2121-1': array([0.74081113, 0.66202475]), 'ICH1104-2': array([ 0.01905049, -0.04188782]), 'ICH2114-1': array([-0.94015892, -0.21946215]), 'IEE2714-1': array([0.97416641, 0.07828909]), 'IIC2714-1': array([-0.94476238, -0.35525201]), 'IIC2685-1': array([0.52191071, 0.76175576]), 'IEE2393-1': array([-0.75801385,  0.57890122]), 'ICS2813-3': array([ 0.29746368, -0.85204122]), 'IIQ2623-1': array([0.66494787, 0.60597726]), 'ICM2403-1': array([0.75056836, 0.59722777]), 'IIC2133-2': array([-0.50009805,  0.89049337]), 'IMM2503-1': array([-0.97654203, -0.21981662]), 'ICC1001-1': array([0.08597225, 0.95872604]), 'ICC3434-1': array([-0.91416577, -0.12934354]), 'ICS3013-3': array([0.34198742, 0.87673519]), 'ICS3013-1': array([-0.05308533,  0.9583016 ]), 'ICS3013-4': array([-0.4393372 , -0.72767811]), 'IIC3242-1': array([0.78298694, 0.06557407]), 'ICS3013-6': array([-0.99997965, -0.17504367]), 'ICE3663-1': array([0.39917141, 0.8542888 ]), 'IEE3893-1': array([0.12567808, 0.87235158]), 'ICT3440-1': array([-0.11788852,  0.32354476]), 'ICS3013-8': array([0.8054408 , 0.48090502]), 'ICE3513-1': array([-0.90723192, -0.34159725]), 'IIC3585-1': array([-0.05326214, -0.18714923]), 'IND3830-1': array([-0.05270069,  0.31952675]), 'ICT3256-1': array([-0.05978819,  0.32638432]), 'IDI2995-1': array([-0.67139231, -0.73986117]), 'IEG3700-1': array([ 0.09757349, -0.47489363]), 'IEG3300-1': array([ 0.08129051, -0.45383711]), 'IEG3280-1': array([ 0.09022035, -0.48551928]), 'IEN3120-1': array([0.44852211, 0.01452407]), 'IEN3540-1': array([0.44183168, 0.02134203]), 'INF3230-1': array([0.44372523, 0.00602991]), 'INF3261-1': array([0.43621989, 0.00426749]), 'INF3290-1': array([0.43091944, 0.01646489]), 'INF3592-1': array([0.43097385, 0.02366614]), 'INF3590-1': array([0.43008655, 0.00395502]), 'INF3831-1': array([0.42475159, 0.0145811 ]), 'INF3801-1': array([0.43619207, 0.02084028]), 'INF3841-1': array([0.44196582, 0.01262218]), 'INF3242-1': array([0.42969181, 0.00977032]), 'IIQ213Q-1': array([0.112971  , 0.92202938]), 'IIC2413-1': array([-0.11331182, -0.15831157]), 'IIC2413-2': array([-0.11793007, -0.15902496]), 'IIC2413-3': array([-0.1156846 , -0.15588027]), 'IIC2440-1': array([-0.12099208, -0.18495117]), 'ICM3213-1': array([-0.1274614 , -0.18375259]), 'IIC3743-1': array([-0.12209947, -0.21923966]), 'IDT4030-1': array([-0.11516371, -0.18266259]), 'IEN3610-1': array([-0.82350574,  0.08444848]), 'IEN3550-1': array([-0.79011057,  0.08279621]), 'IEN3110-2': array([-0.81235345,  0.0907514 ]), 'IEN3220-2': array([-0.81228748,  0.07762436]), 'IMI3100-1': array([-0.25521574, -0.70559622]), 'ICE2823-1': array([ 0.05369798, -0.20944999]), 'IBM2122-1': array([ 0.0917329 , -0.22264479]), 'IIC2433-1': array([ 0.07601572, -0.22628566]), 'IDI1015-2': array([ 0.08489099, -0.22113738]), 'IDI1015-1': array([ 0.09092938, -0.23133711]), 'IDI2025-1': array([ 0.08217502, -0.22823735]), 'IRB1010-1': array([ 0.07849091, -0.23741873]), 'IIC3182-1': array([ 0.08548873, -0.23654171]), 'INP3611-1': array([-0.49790741, -0.23617983]), 'IEN3240-1': array([-0.50286872, -0.25279366]), 'INF3511-1': array([-0.51256947, -0.24504511]), 'INF3591-1': array([-0.51030318, -0.23366976]), 'INF3211-1': array([-0.51413077, -0.23893144]), 'INF3541-1': array([-0.5020695 , -0.24025991]), 'IMT3860-1': array([-0.50429664, -0.2321007 ]), 'INF3862-1': array([-0.49494299, -0.24535909]), 'INF3842-1': array([-0.51199937, -0.25124649]), 'INF3543-1': array([-0.50060064, -0.24736636]), 'ICE2533-1': array([ 0.08157864, -0.1553759 ]), 'IMM2053-1': array([ 0.0624075 , -0.08446553]), 'IEE2463-1': array([ 0.08424554, -0.12393435]), 'IMM3005-1': array([ 0.09041185, -0.12059302]), 'IMM3005-3': array([ 0.09588141, -0.12134774]), 'ICE3753-1': array([ 0.10199658, -0.14572715]), 'IIC2333-1': array([-0.46309227, -0.55218926]), 'IIQ1003-1': array([ 0.66894834, -0.75841847]), 'IIQ2133-1': array([ 0.76800416, -0.60445629]), 'ING1004-8': array([-0.92680677,  0.07079904]), 'ING1004-4': array([ 0.48434644, -0.92291907]), 'ING1004-3': array([0.81270321, 0.56934659]), 'ING1004-6': array([0.15979841, 0.98469852]), 'ING1004-1': array([ 0.41363784, -0.85694044]), 'ING1004-7': array([-0.80445505,  0.57043517]), 'ING1004-5': array([-0.93872287,  0.3585126 ]), 'ICC2514-1': array([-0.82514957, -0.66435262]), 'ICS2613-1': array([0.15546345, 0.45907509]), 'ICS1113-2': array([-0.11758154,  0.27125513]), 'ICS1513-1': array([0.96494437, 0.18503373]), 'ICS1513-2': array([-0.99541058, -0.04550698]), 'ICS2523-3': array([-0.13781846,  0.26005719]), 'ING1004-9': array([-0.01506037, -0.95517029]), 'IIQ2723-1': array([-0.83329312, -0.56689073]), 'ING1004-2': array([ 0.04094779, -0.99517207]), 'ICM2022-1': array([-0.07492724, -0.04334159]), 'ING1004-10': array([ 0.25606367, -0.90934095]), 'IEE2433-1': array([0.01438937, 0.96892555]), 'IIC3143-1': array([-0.19027458, -0.1113931 ]), 'ICC3214-1': array([-0.86178034, -0.51141656]), 'ICS3213-1': array([ 0.72718264, -0.16725452]), 'IEE3433-1': array([ 0.83135636, -0.59420799]), 'ING2030-1': array([-0.34071807,  0.41644714]), 'ING2030-2': array([-0.33527867,  0.41930854]), 'ING2030-3': array([-0.34490849,  0.40868548]), 'ING2030-4': array([-0.33664494,  0.41058261]), 'ING2030-5': array([-0.32709461,  0.41080343]), 'ING2030-6': array([-0.34521866,  0.40267737]), 'ING2030-7': array([-0.339285  ,  0.40035479]), 'ING2030-8': array([-0.33033003,  0.405569  ]), 'ING2030-9': array([-0.34746329,  0.41648999]), 'ING101G-1': array([-0.32897397,  0.41855199]), 'IMM3800-1': array([-0.33434671,  0.39950721]), 'IIC2115-1': array([0.67354255, 0.70413328]), 'IDI2004-1': array([0.67016599, 0.68986796]), 'ICS2031-1': array([-0.8487027 , -0.15033738]), 'IIC2213-1': array([-0.25790627, -0.07355248]), 'ICC3323-1': array([-0.26449235, -0.08245665]), 'IIC3745-1': array([-0.22538344, -0.08241363]), 'ICT3623-1': array([-0.25961783, -0.06532767]), 'IEE3732-1': array([-0.27519151, -0.06697678]), 'ICS3012-1': array([-0.26626682, -0.07363881]), 'ICT3113-2': array([ 0.01084811, -0.22597625]), 'ICT3113-1': array([ 0.00153254, -0.22635275]), 'ICT3113-3': array([ 0.01631493, -0.22055271]), 'IND3120-1': array([-0.0916817 , -0.50568069]), 'IND3210-1': array([-0.10269623, -0.50624547]), 'IND3300-1': array([-0.09060728, -0.51835228]), 'IND3730-1': array([-0.087799 , -0.5110075]), 'IAC3275-1': array([-0.09266644, -0.47810964]), 'IND3760-1': array([-0.09683174, -0.50167262]), 'IND3860-1': array([-0.08304732, -0.50911974]), 'IAC3290-1': array([-0.09659177, -0.51504206]), 'IND3310-2': array([-0.1029348 , -0.51353853]), 'IIC3757-1': array([-0.81916482,  0.38838969]), 'IIC3800-1': array([0.81156155, 0.20834329]), 'ICM2982-1': array([-0.68453006,  0.32041777]), 'ICS3252-1': array([-0.71411697,  0.33492038]), 'IEN3520-1': array([0.16533682, 0.70690894]), 'IEN3630-1': array([0.18211782, 0.70545729]), 'IEN3120-2': array([0.16898673, 0.68609835]), 'IEN3240-2': array([0.17391231, 0.71062016]), 'IIC2233-2': array([ 0.00506957, -0.20584523]), 'IIC2233-1': array([ 0.00455949, -0.21035983]), 'IIC2233-3': array([ 1.73410774e-04, -2.14074542e-01]), 'IIC2233-4': array([-0.00050794, -0.20853404]), 'IMM2083-1': array([ 0.02165073, -0.21431563]), 'IMM2033-1': array([0.19532459, 0.88898717]), 'ICH3350-1': array([0.19667641, 0.90439923]), 'ICH2574-1': array([0.05203992, 0.08068341]), 'ICM2503-1': array([0.07035353, 0.06982685]), 'ICM2503-2': array([0.0616623 , 0.07417379]), 'ICM2503-3': array([0.07554136, 0.07117216]), 'ICM2503-4': array([0.07060605, 0.07628895]), 'ICM2503-5': array([0.06704143, 0.08161599]), 'IIQ3402-1': array([0.06490381, 0.06950495]), 'IND3110-1': array([0.07074131, 0.08575876]), 'IND3200-1': array([0.07627897, 0.0844314 ]), 'IND3740-1': array([0.06331363, 0.0855148 ]), 'ICH3532-1': array([0.04992497, 0.07079108]), 'IND3725-1': array([0.07728296, 0.07786964]), 'IND3910-1': array([0.0618396 , 0.09731408]), 'ICC2944-1': array([0.04349488, 0.18919641]), 'IAC3260-1': array([0.03926552, 0.1940888 ]), 'IND3100-1': array([0.04045744, 0.16147337]), 'IND3420-1': array([0.04525075, 0.18305309]), 'IND3720-1': array([0.0353045 , 0.17951777]), 'IND3450-1': array([0.03279392, 0.19400585]), 'IAC3280-1': array([0.02924507, 0.18253204]), 'IMM3313-1': array([0.02749519, 0.18919661]), 'IEG3510-1': array([ 0.01331627, -0.46239932]), 'IEG3660-1': array([ 0.00569704, -0.44560407]), 'IEG4010-1': array([ 2.48574785e-05, -4.53016102e-01]), 'IEG4020-1': array([ 0.00395855, -0.4608325 ]), 'IEG3100-1': array([ 0.02683174, -0.44492677]), 'IEG3110-1': array([ 0.0126722 , -0.45201991]), 'INP3610-1': array([0.37218704, 0.30446492]), 'IEN3220-1': array([0.37221821, 0.28876334]), 'INF3410-1': array([0.37527305, 0.29439496]), 'IEN3140-1': array([0.36136244, 0.30684651]), 'INF3262-1': array([0.36635986, 0.28968644]), 'INF3306-1': array([0.36007794, 0.28870053]), 'IMT3850-1': array([0.35651092, 0.30186844]), 'INF3571-1': array([0.37612683, 0.30018332]), 'INF3823-1': array([0.36721615, 0.30743493]), 'INF3821-1': array([0.36411572, 0.29757539]), 'INF3561-1': array([0.35799856, 0.29559024]), 'IEG3710-1': array([-0.25315509, -0.95195007]), 'ICS2015-1': array([-0.10191683, -0.36096532]), 'IIC3703-1': array([-0.11482455, -0.36420689]), 'IAC3200-1': array([-0.09929037, -0.36673193]), 'IAC3270-1': array([-0.09745929, -0.39319851]), 'ICE3653-1': array([-0.11686425, -0.37370588]), 'IAC3911-1': array([-0.10752205, -0.37042768]), 'IAC3921-1': array([-0.10888292, -0.36149208]), 'ING3820-1': array([-0.08547095,  0.04610759]), 'ING3821-1': array([-0.08191111,  0.04793512]), 'W0_MS1 - Macrosección 1': array([-0.76134749,  0.20299664]), 'H6_MS1 - Macrosección 1': array([-0.05488524, -0.0447106 ]), 'H7_MS1 - Macrosección 1': array([-0.05257578, -0.05355535]), 'B6_MS1 - Macrosección 1': array([-0.13941456,  0.32761916]), 'C8_MS1 - Macrosección 1': array([ 0.69859701, -0.14141662]), 'B8_MS1 - Macrosección 1': array([-0.09800127,  0.84430772]), 'T1_MS1 - Macrosección 1': array([-0.16884474,  0.03306926]), 'J7_MS1 - Macrosección 1': array([0.78189327, 0.07527244]), 'B0_MS1 - Macrosección 1': array([ 0.10126295, -0.09165786]), 'B1_MS1 - Macrosección 1': array([-0.15473816,  0.37701676]), 'I6_MS1 - Macrosección 1': array([-0.70201832,  0.18383156])}"
     ]
    }
   ],
   "source": [
    "dibujar_grafo(\"Gramo de ramos con macrosecciones y prerrequisitos\", grafo_modulos)"
   ]
  },
  {
   "cell_type": "code",
   "execution_count": 13,
   "id": "9ab6221c-4bb9-4bc2-9578-1ababf7aae01",
   "metadata": {},
   "outputs": [
    {
     "name": "stdout",
     "output_type": "stream",
     "text": [
      "9497\n"
     ]
    }
   ],
   "source": [
    "print(len(list(nx.enumerate_all_cliques(grafo_modulos))))"
   ]
  },
  {
   "cell_type": "code",
   "execution_count": 14,
   "id": "12609222-7bbf-430a-90e8-55348249cda8",
   "metadata": {},
   "outputs": [
    {
     "name": "stdout",
     "output_type": "stream",
     "text": [
      "210\n"
     ]
    }
   ],
   "source": [
    "print(len(list(grafo_modulos.nodes)))"
   ]
  },
  {
   "cell_type": "code",
   "execution_count": 15,
   "id": "265faab9-8452-44d6-9b99-f3400238e8c6",
   "metadata": {},
   "outputs": [
    {
     "name": "stdout",
     "output_type": "stream",
     "text": [
      "Graph with 210 nodes and 623 edges\n"
     ]
    }
   ],
   "source": [
    "print(grafo_modulos)"
   ]
  },
  {
   "cell_type": "code",
   "execution_count": 16,
   "id": "cbcbdced-484d-4eec-98be-8835576d926a",
   "metadata": {},
   "outputs": [
    {
     "name": "stdout",
     "output_type": "stream",
     "text": [
      "96\n"
     ]
    }
   ],
   "source": [
    "print(len(list(nx.find_cliques(grafo_modulos))))"
   ]
  },
  {
   "cell_type": "code",
   "execution_count": 17,
   "id": "aff3dc8b-c086-405a-8ba1-882e00609844",
   "metadata": {},
   "outputs": [],
   "source": [
    "G_complement = nx.complement(grafo_modulos)"
   ]
  },
  {
   "cell_type": "code",
   "execution_count": 18,
   "id": "73d39cbc-96f0-499b-aa58-80fa01f370e2",
   "metadata": {},
   "outputs": [],
   "source": [
    "# print(len(list(nx.find_cliques(G_complement))))"
   ]
  },
  {
   "cell_type": "code",
   "execution_count": 19,
   "id": "ce064506-462d-4658-8001-cc381bdaf250",
   "metadata": {},
   "outputs": [
    {
     "name": "stdout",
     "output_type": "stream",
     "text": [
      "Graph with 210 nodes and 21322 edges\n"
     ]
    }
   ],
   "source": [
    "print(G_complement)\n",
    "# Lllevaba 5 millones de cliques maximales"
   ]
  },
  {
   "cell_type": "code",
   "execution_count": 24,
   "id": "6f3cfedd-b791-4c48-8172-fedd070dee38",
   "metadata": {},
   "outputs": [],
   "source": [
    "grafo_pygraphviz = nx.nx_agraph.to_agraph(grafo_modulos)\n",
    "\n",
    "# Graficamos el grafo utilizando PyGraphviz\n",
    "grafo_pygraphviz.layout('dot')\n",
    "grafo_pygraphviz.draw('grafo.pdf')"
   ]
  },
  {
   "cell_type": "code",
   "execution_count": null,
   "id": "26c36b4b-ed4d-4d1b-b6b4-ac52aeffe9a0",
   "metadata": {},
   "outputs": [],
   "source": []
  }
 ],
 "metadata": {
  "kernelspec": {
   "display_name": "Python 3 (ipykernel)",
   "language": "python",
   "name": "python3"
  },
  "language_info": {
   "codemirror_mode": {
    "name": "ipython",
    "version": 3
   },
   "file_extension": ".py",
   "mimetype": "text/x-python",
   "name": "python",
   "nbconvert_exporter": "python",
   "pygments_lexer": "ipython3",
   "version": "3.10.10"
  }
 },
 "nbformat": 4,
 "nbformat_minor": 5
}
